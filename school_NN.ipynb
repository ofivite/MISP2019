{
  "nbformat": 4,
  "nbformat_minor": 0,
  "metadata": {
    "colab": {
      "name": "school_NN.ipynb",
      "version": "0.3.2",
      "provenance": [],
      "collapsed_sections": []
    },
    "kernelspec": {
      "name": "python3",
      "display_name": "Python 3"
    },
    "accelerator": "GPU"
  },
  "cells": [
    {
      "metadata": {
        "id": "yC4JzkuKBEyo",
        "colab_type": "text"
      },
      "cell_type": "markdown",
      "source": [
        "* **If smth fails, try resetting session/terminating!**\n",
        "\n",
        "* **Executing consequently 1,2,3 and restarting works**"
      ]
    },
    {
      "metadata": {
        "id": "W1vqpeNzT-DJ",
        "colab_type": "text"
      },
      "cell_type": "markdown",
      "source": [
        "### Plans & Ideas\n",
        "* use a part of the data\n",
        "* sPlot weights as a new feature\n",
        "  * doesn't make any sense in search for an unlnown signal, but might be useful in reducing bkgr\n",
        "* uniformity over bkgr\n",
        "  * handmade losses to prevent similarities between sig and bkgr mass distribution\n",
        "  * checking it with tests\n",
        "* weighted AUC\n",
        "* Focal Loss - https://arxiv.org/abs/1708.02002\n",
        "* something from tau->3mu\n",
        "* play with nB (does it affect smth?)\n",
        "* calibration\n",
        "* dR antimatching as bkgr samples\n"
      ]
    },
    {
      "metadata": {
        "id": "VAE-HjN2yRE9",
        "colab_type": "text"
      },
      "cell_type": "markdown",
      "source": [
        "### **pip libraries**"
      ]
    },
    {
      "metadata": {
        "id": "lLn6DKh1sfob",
        "colab_type": "code",
        "outputId": "ec16c172-7fd4-4e53-d0b5-6b83feb6516d",
        "colab": {
          "base_uri": "https://localhost:8080/",
          "height": 124
        }
      },
      "cell_type": "code",
      "source": [
        "from google.colab import drive\n",
        "import os\n",
        "\n",
        "drive.mount('/content/drive')\n",
        "os.chdir('/content/drive/My Drive/Colab Notebooks/test')"
      ],
      "execution_count": 0,
      "outputs": [
        {
          "output_type": "stream",
          "text": [
            "Go to this URL in a browser: https://accounts.google.com/o/oauth2/auth?client_id=947318989803-6bn6qk8qdgf4n4g3pfee6491hc0brc4i.apps.googleusercontent.com&redirect_uri=urn%3Aietf%3Awg%3Aoauth%3A2.0%3Aoob&scope=email%20https%3A%2F%2Fwww.googleapis.com%2Fauth%2Fdocs.test%20https%3A%2F%2Fwww.googleapis.com%2Fauth%2Fdrive%20https%3A%2F%2Fwww.googleapis.com%2Fauth%2Fdrive.photos.readonly%20https%3A%2F%2Fwww.googleapis.com%2Fauth%2Fpeopleapi.readonly&response_type=code\n",
            "\n",
            "Enter your authorization code:\n",
            "··········\n",
            "Mounted at /content/drive\n"
          ],
          "name": "stdout"
        }
      ]
    },
    {
      "metadata": {
        "id": "aV67Wch5ugx4",
        "colab_type": "code",
        "outputId": "ba83d893-7003-4bae-9dbe-704e549cc836",
        "colab": {
          "base_uri": "https://localhost:8080/",
          "height": 1161
        }
      },
      "cell_type": "code",
      "source": [
        "!pip install numpy -U\n",
        "!pip install pandas -U\n",
        "!pip install seaborn -U\n",
        "!pip install lightgbm -U"
      ],
      "execution_count": 2,
      "outputs": [
        {
          "output_type": "stream",
          "text": [
            "Collecting numpy\n",
            "\u001b[?25l  Downloading https://files.pythonhosted.org/packages/f5/bf/4981bcbee43934f0adb8f764a1e70ab0ee5a448f6505bd04a87a2fda2a8b/numpy-1.16.1-cp36-cp36m-manylinux1_x86_64.whl (17.3MB)\n",
            "\u001b[K    100% |████████████████████████████████| 17.3MB 2.3MB/s \n",
            "\u001b[31mtorchvision 0.2.1 has requirement pillow>=4.1.1, but you'll have pillow 4.0.0 which is incompatible.\u001b[0m\n",
            "\u001b[31mthinc 6.12.1 has requirement wrapt<1.11.0,>=1.10.0, but you'll have wrapt 1.11.1 which is incompatible.\u001b[0m\n",
            "\u001b[31mpymc3 3.6 has requirement joblib<0.13.0, but you'll have joblib 0.13.2 which is incompatible.\u001b[0m\n",
            "\u001b[31mfeaturetools 0.4.1 has requirement pandas>=0.23.0, but you'll have pandas 0.22.0 which is incompatible.\u001b[0m\n",
            "\u001b[31malbumentations 0.1.12 has requirement imgaug<0.2.7,>=0.2.5, but you'll have imgaug 0.2.8 which is incompatible.\u001b[0m\n",
            "\u001b[?25hInstalling collected packages: numpy\n",
            "  Found existing installation: numpy 1.14.6\n",
            "    Uninstalling numpy-1.14.6:\n",
            "      Successfully uninstalled numpy-1.14.6\n",
            "Successfully installed numpy-1.16.1\n"
          ],
          "name": "stdout"
        },
        {
          "output_type": "display_data",
          "data": {
            "application/vnd.colab-display-data+json": {
              "pip_warning": {
                "packages": [
                  "numpy"
                ]
              }
            }
          },
          "metadata": {
            "tags": []
          }
        },
        {
          "output_type": "stream",
          "text": [
            "Collecting pandas\n",
            "\u001b[?25l  Downloading https://files.pythonhosted.org/packages/e6/de/a0d3defd8f338eaf53ef716e40ef6d6c277c35d50e09b586e170169cdf0d/pandas-0.24.1-cp36-cp36m-manylinux1_x86_64.whl (10.1MB)\n",
            "\u001b[K    100% |████████████████████████████████| 10.1MB 4.5MB/s \n",
            "\u001b[?25hRequirement already satisfied, skipping upgrade: pytz>=2011k in /usr/local/lib/python3.6/dist-packages (from pandas) (2018.9)\n",
            "Requirement already satisfied, skipping upgrade: numpy>=1.12.0 in /usr/local/lib/python3.6/dist-packages (from pandas) (1.16.1)\n",
            "Requirement already satisfied, skipping upgrade: python-dateutil>=2.5.0 in /usr/local/lib/python3.6/dist-packages (from pandas) (2.5.3)\n",
            "Requirement already satisfied, skipping upgrade: six>=1.5 in /usr/local/lib/python3.6/dist-packages (from python-dateutil>=2.5.0->pandas) (1.11.0)\n",
            "\u001b[31mpymc3 3.6 has requirement joblib<0.13.0, but you'll have joblib 0.13.2 which is incompatible.\u001b[0m\n",
            "Installing collected packages: pandas\n",
            "  Found existing installation: pandas 0.22.0\n",
            "    Uninstalling pandas-0.22.0:\n",
            "      Successfully uninstalled pandas-0.22.0\n",
            "Successfully installed pandas-0.24.1\n"
          ],
          "name": "stdout"
        },
        {
          "output_type": "display_data",
          "data": {
            "application/vnd.colab-display-data+json": {
              "pip_warning": {
                "packages": [
                  "pandas"
                ]
              }
            }
          },
          "metadata": {
            "tags": []
          }
        },
        {
          "output_type": "stream",
          "text": [
            "Collecting seaborn\n",
            "\u001b[?25l  Downloading https://files.pythonhosted.org/packages/a8/76/220ba4420459d9c4c9c9587c6ce607bf56c25b3d3d2de62056efe482dadc/seaborn-0.9.0-py3-none-any.whl (208kB)\n",
            "\r\u001b[K    4% |█▋                              | 10kB 18.4MB/s eta 0:00:01\r\u001b[K    9% |███▏                            | 20kB 3.2MB/s eta 0:00:01\r\u001b[K    14% |████▊                           | 30kB 4.6MB/s eta 0:00:01\r\u001b[K    19% |██████▎                         | 40kB 3.0MB/s eta 0:00:01\r\u001b[K    24% |███████▉                        | 51kB 3.7MB/s eta 0:00:01\r\u001b[K    29% |█████████▌                      | 61kB 4.4MB/s eta 0:00:01\r\u001b[K    34% |███████████                     | 71kB 5.0MB/s eta 0:00:01\r\u001b[K    39% |████████████▋                   | 81kB 5.7MB/s eta 0:00:01\r\u001b[K    44% |██████████████▏                 | 92kB 6.3MB/s eta 0:00:01\r\u001b[K    49% |███████████████▊                | 102kB 4.9MB/s eta 0:00:01\r\u001b[K    54% |█████████████████▎              | 112kB 5.0MB/s eta 0:00:01\r\u001b[K    59% |███████████████████             | 122kB 6.9MB/s eta 0:00:01\r\u001b[K    63% |████████████████████▌           | 133kB 6.9MB/s eta 0:00:01\r\u001b[K    68% |██████████████████████          | 143kB 12.6MB/s eta 0:00:01\r\u001b[K    73% |███████████████████████▋        | 153kB 12.7MB/s eta 0:00:01\r\u001b[K    78% |█████████████████████████▏      | 163kB 12.6MB/s eta 0:00:01\r\u001b[K    83% |██████████████████████████▊     | 174kB 12.4MB/s eta 0:00:01\r\u001b[K    88% |████████████████████████████▍   | 184kB 12.5MB/s eta 0:00:01\r\u001b[K    93% |██████████████████████████████  | 194kB 12.5MB/s eta 0:00:01\r\u001b[K    98% |███████████████████████████████▌| 204kB 40.1MB/s eta 0:00:01\r\u001b[K    100% |████████████████████████████████| 215kB 27.5MB/s \n",
            "\u001b[?25hRequirement already satisfied, skipping upgrade: pandas>=0.15.2 in /usr/local/lib/python3.6/dist-packages (from seaborn) (0.24.1)\n",
            "Requirement already satisfied, skipping upgrade: matplotlib>=1.4.3 in /usr/local/lib/python3.6/dist-packages (from seaborn) (3.0.2)\n",
            "Requirement already satisfied, skipping upgrade: scipy>=0.14.0 in /usr/local/lib/python3.6/dist-packages (from seaborn) (1.1.0)\n",
            "Requirement already satisfied, skipping upgrade: numpy>=1.9.3 in /usr/local/lib/python3.6/dist-packages (from seaborn) (1.16.1)\n",
            "Requirement already satisfied, skipping upgrade: pytz>=2011k in /usr/local/lib/python3.6/dist-packages (from pandas>=0.15.2->seaborn) (2018.9)\n",
            "Requirement already satisfied, skipping upgrade: python-dateutil>=2.5.0 in /usr/local/lib/python3.6/dist-packages (from pandas>=0.15.2->seaborn) (2.5.3)\n",
            "Requirement already satisfied, skipping upgrade: cycler>=0.10 in /usr/local/lib/python3.6/dist-packages (from matplotlib>=1.4.3->seaborn) (0.10.0)\n",
            "Requirement already satisfied, skipping upgrade: kiwisolver>=1.0.1 in /usr/local/lib/python3.6/dist-packages (from matplotlib>=1.4.3->seaborn) (1.0.1)\n",
            "Requirement already satisfied, skipping upgrade: pyparsing!=2.0.4,!=2.1.2,!=2.1.6,>=2.0.1 in /usr/local/lib/python3.6/dist-packages (from matplotlib>=1.4.3->seaborn) (2.3.1)\n",
            "Requirement already satisfied, skipping upgrade: six>=1.5 in /usr/local/lib/python3.6/dist-packages (from python-dateutil>=2.5.0->pandas>=0.15.2->seaborn) (1.11.0)\n",
            "Requirement already satisfied, skipping upgrade: setuptools in /usr/local/lib/python3.6/dist-packages (from kiwisolver>=1.0.1->matplotlib>=1.4.3->seaborn) (40.8.0)\n",
            "Installing collected packages: seaborn\n",
            "  Found existing installation: seaborn 0.7.1\n",
            "    Uninstalling seaborn-0.7.1:\n",
            "      Successfully uninstalled seaborn-0.7.1\n",
            "Successfully installed seaborn-0.9.0\n"
          ],
          "name": "stdout"
        },
        {
          "output_type": "display_data",
          "data": {
            "application/vnd.colab-display-data+json": {
              "pip_warning": {
                "packages": [
                  "seaborn"
                ]
              }
            }
          },
          "metadata": {
            "tags": []
          }
        },
        {
          "output_type": "stream",
          "text": [
            "Requirement already up-to-date: lightgbm in /usr/local/lib/python3.6/dist-packages (2.2.3)\n",
            "Requirement already satisfied, skipping upgrade: scipy in /usr/local/lib/python3.6/dist-packages (from lightgbm) (1.1.0)\n",
            "Requirement already satisfied, skipping upgrade: scikit-learn in /usr/local/lib/python3.6/dist-packages (from lightgbm) (0.20.2)\n",
            "Requirement already satisfied, skipping upgrade: numpy in /usr/local/lib/python3.6/dist-packages (from lightgbm) (1.16.1)\n"
          ],
          "name": "stdout"
        }
      ]
    },
    {
      "metadata": {
        "id": "EP5CCDjmhWzm",
        "colab_type": "code",
        "outputId": "d98420f3-1c69-4d16-d355-fb4241201584",
        "colab": {
          "base_uri": "https://localhost:8080/",
          "height": 1224
        }
      },
      "cell_type": "code",
      "source": [
        "!pip install shap -U\n",
        "!pip install gpyopt\n",
        "!pip install sobol_seq\n",
        "# !pip install hep_ml -U"
      ],
      "execution_count": 3,
      "outputs": [
        {
          "output_type": "stream",
          "text": [
            "Collecting shap\n",
            "\u001b[?25l  Downloading https://files.pythonhosted.org/packages/30/b3/866b0101cbd1829844c35964af68c14ba522a5cce7a1e8d0f7937411d910/shap-0.28.5.tar.gz (223kB)\n",
            "\u001b[K    100% |████████████████████████████████| 225kB 12.0MB/s \n",
            "\u001b[?25hRequirement already satisfied, skipping upgrade: numpy in /usr/local/lib/python3.6/dist-packages (from shap) (1.16.1)\n",
            "Requirement already satisfied, skipping upgrade: scipy in /usr/local/lib/python3.6/dist-packages (from shap) (1.1.0)\n",
            "Requirement already satisfied, skipping upgrade: scikit-learn in /usr/local/lib/python3.6/dist-packages (from shap) (0.20.2)\n",
            "Requirement already satisfied, skipping upgrade: matplotlib in /usr/local/lib/python3.6/dist-packages (from shap) (3.0.2)\n",
            "Requirement already satisfied, skipping upgrade: pandas in /usr/local/lib/python3.6/dist-packages (from shap) (0.24.1)\n",
            "Requirement already satisfied, skipping upgrade: tqdm in /usr/local/lib/python3.6/dist-packages (from shap) (4.28.1)\n",
            "Requirement already satisfied, skipping upgrade: ipython in /usr/local/lib/python3.6/dist-packages (from shap) (5.5.0)\n",
            "Requirement already satisfied, skipping upgrade: scikit-image in /usr/local/lib/python3.6/dist-packages (from shap) (0.13.1)\n",
            "Requirement already satisfied, skipping upgrade: cycler>=0.10 in /usr/local/lib/python3.6/dist-packages (from matplotlib->shap) (0.10.0)\n",
            "Requirement already satisfied, skipping upgrade: python-dateutil>=2.1 in /usr/local/lib/python3.6/dist-packages (from matplotlib->shap) (2.5.3)\n",
            "Requirement already satisfied, skipping upgrade: pyparsing!=2.0.4,!=2.1.2,!=2.1.6,>=2.0.1 in /usr/local/lib/python3.6/dist-packages (from matplotlib->shap) (2.3.1)\n",
            "Requirement already satisfied, skipping upgrade: kiwisolver>=1.0.1 in /usr/local/lib/python3.6/dist-packages (from matplotlib->shap) (1.0.1)\n",
            "Requirement already satisfied, skipping upgrade: pytz>=2011k in /usr/local/lib/python3.6/dist-packages (from pandas->shap) (2018.9)\n",
            "Requirement already satisfied, skipping upgrade: setuptools>=18.5 in /usr/local/lib/python3.6/dist-packages (from ipython->shap) (40.8.0)\n",
            "Requirement already satisfied, skipping upgrade: pickleshare in /usr/local/lib/python3.6/dist-packages (from ipython->shap) (0.7.5)\n",
            "Requirement already satisfied, skipping upgrade: pygments in /usr/local/lib/python3.6/dist-packages (from ipython->shap) (2.1.3)\n",
            "Requirement already satisfied, skipping upgrade: prompt-toolkit<2.0.0,>=1.0.4 in /usr/local/lib/python3.6/dist-packages (from ipython->shap) (1.0.15)\n",
            "Requirement already satisfied, skipping upgrade: simplegeneric>0.8 in /usr/local/lib/python3.6/dist-packages (from ipython->shap) (0.8.1)\n",
            "Requirement already satisfied, skipping upgrade: pexpect; sys_platform != \"win32\" in /usr/local/lib/python3.6/dist-packages (from ipython->shap) (4.6.0)\n",
            "Requirement already satisfied, skipping upgrade: traitlets>=4.2 in /usr/local/lib/python3.6/dist-packages (from ipython->shap) (4.3.2)\n",
            "Requirement already satisfied, skipping upgrade: decorator in /usr/local/lib/python3.6/dist-packages (from ipython->shap) (4.3.2)\n",
            "Requirement already satisfied, skipping upgrade: six>=1.7.3 in /usr/local/lib/python3.6/dist-packages (from scikit-image->shap) (1.11.0)\n",
            "Requirement already satisfied, skipping upgrade: pillow>=2.1.0 in /usr/local/lib/python3.6/dist-packages (from scikit-image->shap) (4.0.0)\n",
            "Requirement already satisfied, skipping upgrade: PyWavelets>=0.4.0 in /usr/local/lib/python3.6/dist-packages (from scikit-image->shap) (1.0.1)\n",
            "Requirement already satisfied, skipping upgrade: networkx>=1.8 in /usr/local/lib/python3.6/dist-packages (from scikit-image->shap) (2.2)\n",
            "Requirement already satisfied, skipping upgrade: wcwidth in /usr/local/lib/python3.6/dist-packages (from prompt-toolkit<2.0.0,>=1.0.4->ipython->shap) (0.1.7)\n",
            "Requirement already satisfied, skipping upgrade: ptyprocess>=0.5 in /usr/local/lib/python3.6/dist-packages (from pexpect; sys_platform != \"win32\"->ipython->shap) (0.6.0)\n",
            "Requirement already satisfied, skipping upgrade: ipython-genutils in /usr/local/lib/python3.6/dist-packages (from traitlets>=4.2->ipython->shap) (0.2.0)\n",
            "Requirement already satisfied, skipping upgrade: olefile in /usr/local/lib/python3.6/dist-packages (from pillow>=2.1.0->scikit-image->shap) (0.46)\n",
            "Building wheels for collected packages: shap\n",
            "  Building wheel for shap (setup.py) ... \u001b[?25ldone\n",
            "\u001b[?25h  Stored in directory: /root/.cache/pip/wheels/bf/26/bd/912db1314f1cef0171d9b7f128dd01e8b8c92ed8d0062e632d\n",
            "Successfully built shap\n",
            "Installing collected packages: shap\n",
            "Successfully installed shap-0.28.5\n",
            "Collecting gpyopt\n",
            "\u001b[?25l  Downloading https://files.pythonhosted.org/packages/9c/40/ca8f080d74d9f4e29069faa944fcfb083e8693b6daaba0f1e4bc65c88650/GPyOpt-1.2.5.tar.gz (55kB)\n",
            "\u001b[K    100% |████████████████████████████████| 61kB 4.1MB/s \n",
            "\u001b[?25hRequirement already satisfied: numpy>=1.7 in /usr/local/lib/python3.6/dist-packages (from gpyopt) (1.16.1)\n",
            "Requirement already satisfied: scipy>=0.16 in /usr/local/lib/python3.6/dist-packages (from gpyopt) (1.1.0)\n",
            "Collecting GPy>=1.8 (from gpyopt)\n",
            "\u001b[?25l  Downloading https://files.pythonhosted.org/packages/98/7d/e55ffc3b16b68e8b50ccecacec56715bcf49d5c2f204f5ba60374d419611/GPy-1.9.6.tar.gz (873kB)\n",
            "\u001b[K    100% |████████████████████████████████| 880kB 22.5MB/s \n",
            "\u001b[?25hRequirement already satisfied: six in /usr/local/lib/python3.6/dist-packages (from GPy>=1.8->gpyopt) (1.11.0)\n",
            "Collecting paramz>=0.9.0 (from GPy>=1.8->gpyopt)\n",
            "\u001b[?25l  Downloading https://files.pythonhosted.org/packages/fd/78/b0f0164a32518bfd3b98cb2e149b7a4d5504d13fb503b31a6c59b958ed18/paramz-0.9.4.tar.gz (70kB)\n",
            "\u001b[K    100% |████████████████████████████████| 71kB 21.7MB/s \n",
            "\u001b[?25hRequirement already satisfied: decorator>=4.0.10 in /usr/local/lib/python3.6/dist-packages (from paramz>=0.9.0->GPy>=1.8->gpyopt) (4.3.2)\n",
            "Building wheels for collected packages: gpyopt, GPy, paramz\n",
            "  Building wheel for gpyopt (setup.py) ... \u001b[?25ldone\n",
            "\u001b[?25h  Stored in directory: /root/.cache/pip/wheels/33/1d/87/dc02440831ba986b1547dd11a7dcd44e893b0527083066d869\n",
            "  Building wheel for GPy (setup.py) ... \u001b[?25ldone\n",
            "\u001b[?25h  Stored in directory: /root/.cache/pip/wheels/97/82/1d/32a361e1ff2b4d9129a60343831dd99cdc74440e2db1c55264\n",
            "  Building wheel for paramz (setup.py) ... \u001b[?25ldone\n",
            "\u001b[?25h  Stored in directory: /root/.cache/pip/wheels/a9/fc/74/3bbd263c43ed98d67343df24cebf0a0ee34afee40d769fda9c\n",
            "Successfully built gpyopt GPy paramz\n",
            "Installing collected packages: paramz, GPy, gpyopt\n",
            "Successfully installed GPy-1.9.6 gpyopt-1.2.5 paramz-0.9.4\n",
            "Collecting sobol_seq\n",
            "  Downloading https://files.pythonhosted.org/packages/89/7a/7b374fd1f100bfea2624190f3dd879029e1aabe70d34e279ef456d522717/sobol_seq-0.1.2.zip\n",
            "Building wheels for collected packages: sobol-seq\n",
            "  Building wheel for sobol-seq (setup.py) ... \u001b[?25ldone\n",
            "\u001b[?25h  Stored in directory: /root/.cache/pip/wheels/d5/72/1f/6cd8a0b472da802ee9c84fdc39626bb4ec544668c030917d9f\n",
            "Successfully built sobol-seq\n",
            "Installing collected packages: sobol-seq\n",
            "Successfully installed sobol-seq-0.1.2\n"
          ],
          "name": "stdout"
        }
      ]
    },
    {
      "metadata": {
        "id": "E3No6I-F29vi",
        "colab_type": "text"
      },
      "cell_type": "markdown",
      "source": [
        "#### pytorch"
      ]
    },
    {
      "metadata": {
        "id": "rI1QInUdzTBQ",
        "colab_type": "code",
        "outputId": "64e466e1-62e2-49ac-95b6-088a967d0b36",
        "colab": {
          "base_uri": "https://localhost:8080/",
          "height": 122
        }
      },
      "cell_type": "code",
      "source": [
        "# from os import path\n",
        "# from wheel.pep425tags import get_abbr_impl, get_impl_ver, get_abi_tag\n",
        "# platform = '{}{}-{}'.format(get_abbr_impl(), get_impl_ver(), get_abi_tag())\n",
        "\n",
        "# accelerator = 'cu80' if path.exists('/opt/bin/nvidia-smi') else 'cpu'\n",
        "\n",
        "# !pip install -q http://download.pytorch.org/whl/{accelerator}/torch-0.4.0-{platform}-linux_x86_64.whl torchvision\n",
        "# import torch\n",
        "# print(torch.__version__)\n",
        "# print(torch.cuda.is_available())"
      ],
      "execution_count": 0,
      "outputs": [
        {
          "output_type": "stream",
          "text": [
            "\u001b[K    100% |████████████████████████████████| 484.0MB 34.8MB/s \n",
            "\u001b[K    100% |████████████████████████████████| 2.0MB 11.2MB/s \n",
            "\u001b[31mfastai 1.0.43 has requirement torch>=1.0.0, but you'll have torch 0.4.0 which is incompatible.\u001b[0m\n",
            "\u001b[31malbumentations 0.1.12 has requirement imgaug<0.2.7,>=0.2.5, but you'll have imgaug 0.2.8 which is incompatible.\u001b[0m\n",
            "\u001b[?25h0.4.0\n",
            "True\n"
          ],
          "name": "stdout"
        }
      ]
    },
    {
      "metadata": {
        "id": "A-YAEIucz3fy",
        "colab_type": "code",
        "outputId": "901bc40a-fa02-4405-bb77-4186179b11a3",
        "colab": {
          "base_uri": "https://localhost:8080/",
          "height": 406
        }
      },
      "cell_type": "code",
      "source": [
        "# from pytorch install webpage\n",
        "\n",
        "!pip install https://download.pytorch.org/whl/cu80/torch-1.0.1.post2-cp36-cp36m-linux_x86_64.whl\n",
        "!pip install torchvision\n",
        "import torch\n",
        "print(torch.__version__)\n",
        "print(torch.cuda.is_available())"
      ],
      "execution_count": 4,
      "outputs": [
        {
          "output_type": "stream",
          "text": [
            "Requirement already satisfied: torch==1.0.1.post2 from https://download.pytorch.org/whl/cu80/torch-1.0.1.post2-cp36-cp36m-linux_x86_64.whl in /usr/local/lib/python3.6/dist-packages (1.0.1.post2)\n",
            "Requirement already satisfied: torchvision in /usr/local/lib/python3.6/dist-packages (0.2.1)\n",
            "Requirement already satisfied: torch in /usr/local/lib/python3.6/dist-packages (from torchvision) (1.0.1.post2)\n",
            "Collecting pillow>=4.1.1 (from torchvision)\n",
            "\u001b[?25l  Downloading https://files.pythonhosted.org/packages/85/5e/e91792f198bbc5a0d7d3055ad552bc4062942d27eaf75c3e2783cf64eae5/Pillow-5.4.1-cp36-cp36m-manylinux1_x86_64.whl (2.0MB)\n",
            "\u001b[K    100% |████████████████████████████████| 2.0MB 1.7MB/s \n",
            "\u001b[?25hRequirement already satisfied: six in /usr/local/lib/python3.6/dist-packages (from torchvision) (1.11.0)\n",
            "Requirement already satisfied: numpy in /usr/local/lib/python3.6/dist-packages (from torchvision) (1.16.1)\n",
            "\u001b[31malbumentations 0.1.12 has requirement imgaug<0.2.7,>=0.2.5, but you'll have imgaug 0.2.8 which is incompatible.\u001b[0m\n",
            "Installing collected packages: pillow\n",
            "  Found existing installation: Pillow 4.0.0\n",
            "    Uninstalling Pillow-4.0.0:\n",
            "      Successfully uninstalled Pillow-4.0.0\n",
            "Successfully installed pillow-5.4.1\n"
          ],
          "name": "stdout"
        },
        {
          "output_type": "display_data",
          "data": {
            "application/vnd.colab-display-data+json": {
              "pip_warning": {
                "packages": [
                  "PIL"
                ]
              }
            }
          },
          "metadata": {
            "tags": []
          }
        },
        {
          "output_type": "stream",
          "text": [
            "1.0.1.post2\n",
            "True\n"
          ],
          "name": "stdout"
        }
      ]
    },
    {
      "metadata": {
        "id": "jm8kWtoLopG4",
        "colab_type": "text"
      },
      "cell_type": "markdown",
      "source": [
        "### Import libraries"
      ]
    },
    {
      "metadata": {
        "id": "O-wV9_Akx2WS",
        "colab_type": "code",
        "outputId": "af62355d-427c-4623-aed1-4c230fb1e5fe",
        "colab": {
          "base_uri": "https://localhost:8080/",
          "height": 69
        }
      },
      "cell_type": "code",
      "source": [
        "import pandas as pd\n",
        "import numpy as np\n",
        "import seaborn as sns\n",
        "import matplotlib.pyplot as plt\n",
        "# import graphviz\n",
        "import itertools\n",
        "\n",
        "from IPython.display import Image        \n",
        "\n",
        "from sklearn.model_selection import learning_curve, GridSearchCV\n",
        "from sklearn.tree import DecisionTreeClassifier\n",
        "from sklearn import linear_model, tree, ensemble\n",
        "from sklearn.preprocessing import scale, StandardScaler, PolynomialFeatures\n",
        "from sklearn import utils\n",
        "from sklearn.model_selection import train_test_split, cross_validate, cross_val_score, RandomizedSearchCV\n",
        "from sklearn.discriminant_analysis import LinearDiscriminantAnalysis\n",
        "from sklearn.feature_selection import SelectFromModel, RFE\n",
        "from sklearn.feature_selection import SelectKBest\n",
        "from sklearn.feature_selection import chi2, mutual_info_classif, f_classif\n",
        "\n",
        "from sklearn.svm import SVC\n",
        "from sklearn.metrics import roc_auc_score, auc, classification_report, matthews_corrcoef, log_loss\n",
        "\n",
        "import lightgbm as lgb\n",
        "# import shap\n",
        "\n",
        "# from hep_ml import uboost, gradientboosting as ugb, losses\n",
        "\n",
        "# import pyDOE\n",
        "%pylab inline  \n",
        "\n",
        "sns.__version__\n",
        "\n",
        "\n",
        "import torch, torch.nn as nn\n",
        "import torch.nn.functional as F\n",
        "from torch.autograd import Variable\n",
        "from torch.utils.data import DataLoader, TensorDataset\n",
        "from torch.utils.data.dataset import Subset\n",
        "\n",
        "# from ignite.contrib.handlers import ProgressBar\n",
        "# from ignite.engine import Engine, Events, create_supervised_trainer, create_supervised_evaluator\n",
        "# from ignite.handlers import ModelCheckpoint, Timer, EarlyStopping\n",
        "# from ignite.metrics import RunningAverage, Accuracy, Loss\n",
        "# from ignite.contrib.handlers.param_scheduler import LinearCyclicalScheduler, CosineAnnealingScheduler \n",
        "\n",
        "# import visdom \n",
        "\n",
        "import GPy\n",
        "import GPyOpt\n",
        "from GPyOpt.methods import BayesianOptimization\n",
        "\n",
        "import matplotlib.pyplot as plt\n",
        "%matplotlib inline\n",
        "\n",
        "# !pip install livelossplot\n",
        "# from livelossplot import PlotLosses\n",
        "\n",
        "from tqdm import tqdm_notebook\n",
        "\n",
        "device = torch.device(\"cuda:0\" if torch.cuda.is_available() else \"cpu\")\n",
        "print(torch.cuda.is_available())\n",
        "print(device)"
      ],
      "execution_count": 2,
      "outputs": [
        {
          "output_type": "stream",
          "text": [
            "Populating the interactive namespace from numpy and matplotlib\n",
            "True\n",
            "cuda:0\n"
          ],
          "name": "stdout"
        }
      ]
    },
    {
      "metadata": {
        "colab_type": "code",
        "outputId": "b983c773-8b54-46a8-fa09-7a2cc0e04e5a",
        "id": "DEAdnTo6xDLi",
        "colab": {
          "base_uri": "https://localhost:8080/",
          "height": 34
        }
      },
      "cell_type": "code",
      "source": [
        "from google.colab import drive\n",
        "import os\n",
        "\n",
        "drive.mount('/content/drive')\n",
        "os.chdir('/content/drive/My Drive/Colab Notebooks/test')"
      ],
      "execution_count": 3,
      "outputs": [
        {
          "output_type": "stream",
          "text": [
            "Drive already mounted at /content/drive; to attempt to forcibly remount, call drive.mount(\"/content/drive\", force_remount=True).\n"
          ],
          "name": "stdout"
        }
      ]
    },
    {
      "metadata": {
        "id": "OncBhbMSy0Rm",
        "colab_type": "text"
      },
      "cell_type": "markdown",
      "source": [
        "### **Getting data**"
      ]
    },
    {
      "metadata": {
        "slideshow": {
          "slide_type": "slide"
        },
        "id": "yuywHXszx2Wb",
        "colab_type": "code",
        "outputId": "2dcc3e0e-2d67-4fae-93fb-ecc76ab234dc",
        "colab": {
          "base_uri": "https://localhost:8080/",
          "height": 34
        }
      },
      "cell_type": "code",
      "source": [
        "MC   = pd.read_pickle('MC_pair_dR_psi_renamed.pkl')\n",
        "# data    = pd.read_pickle('data_B0_e3de87.pkl')\n",
        "data    = pd.read_pickle('data_B0_e3de87_nB_4000.pkl')\n",
        "data = data.set_index([pd.Series(range(data.shape[0]))]) # removing str labels\n",
        "\n",
        "MC_vars = [\"dR_mu1\", \"dR_mu2\", \"dR_pi1\", \"dR_pi2\", \"dR_K1\", \"dR_K2\",\n",
        "           \"dR_mu1_vv\", \"dR_mu2_vv\", \"dR_pi1_vv\", \"dR_pi2_vv\", \"dR_K1_vv\", \"dR_K2_vv\",\n",
        "           'gen_phi_mass', 'delta_phi_mass',\n",
        "           \"BU_reflmass1_Cjp\", \"BU_reflmass2_Cjp\"] \n",
        "\n",
        "MC.shape, data.shape"
      ],
      "execution_count": 4,
      "outputs": [
        {
          "output_type": "execute_result",
          "data": {
            "text/plain": [
              "((230149, 50), (183406, 34))"
            ]
          },
          "metadata": {
            "tags": []
          },
          "execution_count": 4
        }
      ]
    },
    {
      "metadata": {
        "slideshow": {
          "slide_type": "slide"
        },
        "id": "OhtCNopQx2We",
        "colab_type": "code",
        "colab": {}
      },
      "cell_type": "code",
      "source": [
        "dR_match = 0.01\n",
        "matching_mask = ((MC[['dR_mu1', 'dR_mu1_vv']].min(axis=1) < dR_match) & (MC[['dR_mu2', 'dR_mu2_vv']].min(axis=1) < dR_match) & (MC[['dR_pi1', 'dR_pi1_vv']].min(axis=1) < dR_match) &\n",
        "                 (MC[['dR_pi2', 'dR_pi2_vv']].min(axis=1) < dR_match) & (MC[['dR_K1', 'dR_K1_vv']].min(axis=1) < dR_match) & (MC[['dR_K2', 'dR_K2_vv']].min(axis=1) < dR_match))\n",
        "signal = MC[matching_mask]\n",
        "\n",
        "#---#\n",
        "B_window = 0.05; #left_sdbd_dist = 5.366 - 5.25 - B_window\n",
        "mass_mask_for_bkgr = np.array([True] * data.shape[0])\n",
        "mass_mask_for_sig = np.array([True] * signal.shape[0])\n",
        "sig_window = {'BU_mass_Cjp': [5.366 - B_window, 5.366 + B_window]}\n",
        "\n",
        "for key, value in sig_window.items():\n",
        "    mass_mask_for_bkgr &= ((data[key] > value[0] - B_window) & (data[key] < value[0])) | ( (data[key] > value[1]) & (data[key] < value[1] + B_window))\n",
        "    mass_mask_for_sig &= (signal[key] > value[0]) & (signal[key] < value[1])\n",
        "\n",
        "bkgr = data[mass_mask_for_bkgr]\n",
        "signal = signal[mass_mask_for_sig]\n"
      ],
      "execution_count": 0,
      "outputs": []
    },
    {
      "metadata": {
        "id": "meApv4YLgYMQ",
        "colab_type": "code",
        "outputId": "8177c446-bd8a-4a0c-c9ff-6b45745479fb",
        "colab": {
          "base_uri": "https://localhost:8080/",
          "height": 34
        }
      },
      "cell_type": "code",
      "source": [
        "signal.shape"
      ],
      "execution_count": 6,
      "outputs": [
        {
          "output_type": "execute_result",
          "data": {
            "text/plain": [
              "(84553, 50)"
            ]
          },
          "metadata": {
            "tags": []
          },
          "execution_count": 6
        }
      ]
    },
    {
      "metadata": {
        "slideshow": {
          "slide_type": "slide"
        },
        "id": "g3DoTLGwx2Wi",
        "colab_type": "text"
      },
      "cell_type": "markdown",
      "source": [
        "### **Define final dataframe for training**"
      ]
    },
    {
      "metadata": {
        "id": "S_iH11T060CV",
        "colab_type": "code",
        "outputId": "6ab43502-7845-4468-8f0b-853a42819752",
        "colab": {
          "base_uri": "https://localhost:8080/",
          "height": 174
        }
      },
      "cell_type": "code",
      "source": [
        "data.columns"
      ],
      "execution_count": 7,
      "outputs": [
        {
          "output_type": "execute_result",
          "data": {
            "text/plain": [
              "Index(['psi_eta', 'BU_pvdistsignif2_Cjp', 'mu_1_pt', 'PI2_eta', 'BU_pt_Cjp',\n",
              "       'K1_pt', 'BU_vtxprob_Cjp', 'mu_2_eta', 'phi_eta', 'BU_mass_Cjp',\n",
              "       'phi_pt', 'BU_pvdistsignif3_Cjp', 'nB', 'mu_2_pt', 'JP_pt',\n",
              "       'JPSI_pvcos2_Cmumu', 'K2_eta', 'JPSI_vtxprob_Cmumu', 'K2_pt',\n",
              "       'JPSI_pvdistsignif2_Cmumu', 'JPSI_mass_Cmumu', 'psi_pt', 'PI2_pt',\n",
              "       'BU_eta_Cjp', 'PHI_mass_Cjp', 'psi_mass_Cjp', 'mu_1_eta', 'K1_eta',\n",
              "       'BU_pvcos2_Cjp', 'PI1_pt', 'PI1_eta', 'PV_bestBang_RF_CL', 'JP_eta',\n",
              "       'PIPI_mass_Cjp'],\n",
              "      dtype='object')"
            ]
          },
          "metadata": {
            "tags": []
          },
          "execution_count": 7
        }
      ]
    },
    {
      "metadata": {
        "id": "SQHRtEZtx2Wj",
        "colab_type": "code",
        "colab": {}
      },
      "cell_type": "code",
      "source": [
        "drop_vars = [] # ['nB']\n",
        "drop_masses = ['BU_mass_Cjp', 'PHI_mass_Cjp', 'psi_mass_Cjp', 'PIPI_mass_Cjp'] # , 'PHI_mass_Cjp', 'psi_mass_Cjp', 'PIPI_mass_Cjp'\n",
        "\n",
        "\n",
        "signal = signal.drop(drop_vars + MC_vars, axis=1, inplace=False)\n",
        "bkgr = bkgr.drop(drop_vars, axis=1, inplace=False)[signal.columns]"
      ],
      "execution_count": 0,
      "outputs": []
    },
    {
      "metadata": {
        "id": "89CH_o5Ox2Wn",
        "colab_type": "code",
        "outputId": "94e86ca4-4472-41fd-c7d7-753e05382fcc",
        "colab": {
          "base_uri": "https://localhost:8080/",
          "height": 52
        }
      },
      "cell_type": "code",
      "source": [
        "print(f'Signal shape: {signal.shape[0]}\\nBkgr shape: {bkgr.shape[0]}')"
      ],
      "execution_count": 9,
      "outputs": [
        {
          "output_type": "stream",
          "text": [
            "Signal shape: 84553\n",
            "Bkgr shape: 37229\n"
          ],
          "name": "stdout"
        }
      ]
    },
    {
      "metadata": {
        "id": "HpJ4Tio2x2Wr",
        "colab_type": "code",
        "outputId": "989e662a-cb33-4170-b28b-ae534233d432",
        "colab": {
          "base_uri": "https://localhost:8080/",
          "height": 52
        }
      },
      "cell_type": "code",
      "source": [
        "min_shape = min(bkgr.shape[0], signal.shape[0])\n",
        "\n",
        "bkgr = utils.shuffle(bkgr, random_state=123)[:min_shape] \n",
        "signal = utils.shuffle(signal, random_state=123)[:min_shape] \n",
        "\n",
        "### make target labels and append sig with bkgr\n",
        "bkgr['target'] = [0]*bkgr.shape[0]\n",
        "signal['target'] = [1]*signal.shape[0]\n",
        "df = bkgr.append(signal)\n",
        "\n",
        "\n",
        "print('Sig/bkgr shapes:', signal.shape, bkgr.shape)\n",
        "print('Dataframe shape:', df.shape)\n",
        "# print('\\nNow better')"
      ],
      "execution_count": 10,
      "outputs": [
        {
          "output_type": "stream",
          "text": [
            "Sig/bkgr shapes: (37229, 35) (37229, 35)\n",
            "Dataframe shape: (74458, 35)\n"
          ],
          "name": "stdout"
        }
      ]
    },
    {
      "metadata": {
        "id": "FQvsF2RCx2Ww",
        "colab_type": "text"
      },
      "cell_type": "markdown",
      "source": [
        " ### **Drop nan, shuffle and split into X (features) and y (targets)**"
      ]
    },
    {
      "metadata": {
        "scrolled": true,
        "id": "Are2SWFlx2Wx",
        "colab_type": "code",
        "colab": {}
      },
      "cell_type": "code",
      "source": [
        "# print ('Nan indices:\\n ', np.argwhere(np.isnan(df.values)), '\\n', sum(np.isnan(df.values)))\n",
        "df = df.dropna(inplace=False) \n",
        "\n",
        "df = utils.shuffle(df, random_state=123)\n",
        "X = df.iloc[:, :-1]\n",
        "y = df['target']"
      ],
      "execution_count": 0,
      "outputs": []
    },
    {
      "metadata": {
        "id": "NaBhbeOVx2W1",
        "colab_type": "code",
        "outputId": "32fe5ba5-1cb1-4af0-bb69-863144ca1b90",
        "colab": {
          "base_uri": "https://localhost:8080/",
          "height": 52
        }
      },
      "cell_type": "code",
      "source": [
        "print(f'NaNs in features:\\n{df.columns[3]}, {df.columns[17]}')"
      ],
      "execution_count": 12,
      "outputs": [
        {
          "output_type": "stream",
          "text": [
            "NaNs in features:\n",
            "psi_pt, K2_eta\n"
          ],
          "name": "stdout"
        }
      ]
    },
    {
      "metadata": {
        "id": "WWD1VHVUx2W6",
        "colab_type": "text"
      },
      "cell_type": "markdown",
      "source": [
        "### **Train / Test split**"
      ]
    },
    {
      "metadata": {
        "id": "vDXkWaPDx2W-",
        "colab_type": "code",
        "colab": {}
      },
      "cell_type": "code",
      "source": [
        "(X_traval, X_test, y_traval, y_test) = train_test_split(X, y,\n",
        "                                     test_size=0.2, \n",
        "                                     random_state=123, stratify=y)\n",
        "\n",
        "(X_train, X_val, y_train, y_val) = train_test_split(X_traval, y_traval,\n",
        "                                     test_size=0.25, \n",
        "                                     random_state=123, stratify=y_traval)\n",
        "\n",
        "train_masses = X_train[['BU_mass_Cjp', 'PHI_mass_Cjp', 'psi_mass_Cjp']]\n",
        "X_train = X_train.drop(columns=drop_masses)\n",
        "\n",
        "test_masses = X_test[['BU_mass_Cjp', 'PHI_mass_Cjp', 'psi_mass_Cjp']]\n",
        "X_test = X_test.drop(columns=drop_masses)\n",
        "\n",
        "val_masses = X_val[['BU_mass_Cjp', 'PHI_mass_Cjp', 'psi_mass_Cjp']]\n",
        "X_val = X_val.drop(columns=drop_masses)\n",
        "\n",
        "X_train = np.array(X_train, dtype='float64')\n",
        "X_test = np.array(X_test, dtype='float64')\n",
        "X_val = np.array(X_val, dtype='float64')\n",
        "\n",
        "y_train = np.array(y_train, dtype='int')\n",
        "y_test = np.array(y_test, dtype='int')\n",
        "y_val = np.array(y_val, dtype='int')"
      ],
      "execution_count": 0,
      "outputs": []
    },
    {
      "metadata": {
        "id": "ukQEljLFx2XC",
        "colab_type": "code",
        "outputId": "d6715dfa-4d89-4c59-ebf9-f7d5af9144bc",
        "colab": {
          "base_uri": "https://localhost:8080/",
          "height": 122
        }
      },
      "cell_type": "code",
      "source": [
        "X_val[5]"
      ],
      "execution_count": 14,
      "outputs": [
        {
          "output_type": "execute_result",
          "data": {
            "text/plain": [
              "array([57.47633934,  6.17794593,  1.40427627, 13.74554346, 16.62144523,\n",
              "        1.6534085 ,  0.1413883 ,  1.60210319,  1.34260039,  2.88873946,\n",
              "       72.57888096,  2.        ,  5.15920458, 11.0359782 ,  0.99999941,\n",
              "        1.38260844,  0.46248439,  1.25063112,  1.712655  , 49.42395924,\n",
              "        3.06640172,  0.80747311,  1.69399854,  1.64124031,  1.74080783,\n",
              "        1.30480812,  0.99995016,  1.92535807,  1.69050186,  0.99352568])"
            ]
          },
          "metadata": {
            "tags": []
          },
          "execution_count": 14
        }
      ]
    },
    {
      "metadata": {
        "id": "K2SxkRD80xxo",
        "colab_type": "text"
      },
      "cell_type": "markdown",
      "source": [
        "### **LightGBM**"
      ]
    },
    {
      "metadata": {
        "id": "CVM4P91bpyHl",
        "colab_type": "code",
        "outputId": "c036dfe2-71bb-464c-96ac-5f04524d6fb4",
        "colab": {
          "base_uri": "https://localhost:8080/",
          "height": 168
        }
      },
      "cell_type": "code",
      "source": [
        "X_train.columns"
      ],
      "execution_count": 15,
      "outputs": [
        {
          "output_type": "error",
          "ename": "AttributeError",
          "evalue": "ignored",
          "traceback": [
            "\u001b[0;31m---------------------------------------------------------------------------\u001b[0m",
            "\u001b[0;31mAttributeError\u001b[0m                            Traceback (most recent call last)",
            "\u001b[0;32m<ipython-input-15-2625f76b8a6d>\u001b[0m in \u001b[0;36m<module>\u001b[0;34m()\u001b[0m\n\u001b[0;32m----> 1\u001b[0;31m \u001b[0mX_train\u001b[0m\u001b[0;34m.\u001b[0m\u001b[0mcolumns\u001b[0m\u001b[0;34m\u001b[0m\u001b[0;34m\u001b[0m\u001b[0m\n\u001b[0m",
            "\u001b[0;31mAttributeError\u001b[0m: 'numpy.ndarray' object has no attribute 'columns'"
          ]
        }
      ]
    },
    {
      "metadata": {
        "id": "BOGQ-7NB0-wU",
        "colab_type": "code",
        "colab": {}
      },
      "cell_type": "code",
      "source": [
        "train_data = lgb.Dataset(X_train, label=y_train)\n",
        "test_data  = lgb.Dataset(X_test, label=y_test)"
      ],
      "execution_count": 0,
      "outputs": []
    },
    {
      "metadata": {
        "id": "l4aTnsYw00WG",
        "colab_type": "code",
        "colab": {}
      },
      "cell_type": "code",
      "source": [
        "lgb_params = {'seed': 123, 'device': 'cpu',\n",
        "           'num_leaves': 30, 'max_depth': 10, 'subsample': .8, 'colsample_bytree': .8,\n",
        "           'learning_rate': 0.01,  'lambda': 0,'min_child_weight': 1\n",
        "               }\n",
        "\n",
        "lgb_params['metric'] = ['auc', 'binary_logloss']"
      ],
      "execution_count": 0,
      "outputs": []
    },
    {
      "metadata": {
        "id": "tFGYfz9F2Bd-",
        "colab_type": "code",
        "outputId": "53907418-4312-487c-df32-2c8e75096de5",
        "colab": {
          "base_uri": "https://localhost:8080/",
          "height": 367
        }
      },
      "cell_type": "code",
      "source": [
        "num_round = 999\n",
        "bst = lgb.train(lgb_params, train_data, num_round, early_stopping_rounds=10, valid_sets=[test_data], verbose_eval=20)"
      ],
      "execution_count": 0,
      "outputs": [
        {
          "output_type": "stream",
          "text": [
            "Training until validation scores don't improve for 10 rounds.\n",
            "[20]\tvalid_0's binary_logloss: 0.586872\tvalid_0's auc: 0.957979\n",
            "[40]\tvalid_0's binary_logloss: 0.508467\tvalid_0's auc: 0.959496\n",
            "[60]\tvalid_0's binary_logloss: 0.45318\tvalid_0's auc: 0.960919\n",
            "[80]\tvalid_0's binary_logloss: 0.409076\tvalid_0's auc: 0.962109\n",
            "[100]\tvalid_0's binary_logloss: 0.375077\tvalid_0's auc: 0.96286\n",
            "[120]\tvalid_0's binary_logloss: 0.347287\tvalid_0's auc: 0.963599\n",
            "[140]\tvalid_0's binary_logloss: 0.324355\tvalid_0's auc: 0.964303\n",
            "[160]\tvalid_0's binary_logloss: 0.307485\tvalid_0's auc: 0.964964\n",
            "[180]\tvalid_0's binary_logloss: 0.29214\tvalid_0's auc: 0.965724\n",
            "[200]\tvalid_0's binary_logloss: 0.279714\tvalid_0's auc: 0.966312\n",
            "[220]\tvalid_0's binary_logloss: 0.269029\tvalid_0's auc: 0.966957\n",
            "[240]\tvalid_0's binary_logloss: 0.259595\tvalid_0's auc: 0.967591\n",
            "[260]\tvalid_0's binary_logloss: 0.251349\tvalid_0's auc: 0.968188\n",
            "[280]\tvalid_0's binary_logloss: 0.244767\tvalid_0's auc: 0.968694\n",
            "[300]\tvalid_0's binary_logloss: 0.239371\tvalid_0's auc: 0.969175\n",
            "[320]\tvalid_0's binary_logloss: 0.234783\tvalid_0's auc: 0.969598\n",
            "[340]\tvalid_0's binary_logloss: 0.23078\tvalid_0's auc: 0.970009\n",
            "Early stopping, best iteration is:\n",
            "[346]\tvalid_0's binary_logloss: 0.22974\tvalid_0's auc: 0.970122\n"
          ],
          "name": "stdout"
        }
      ]
    },
    {
      "metadata": {
        "colab_type": "code",
        "id": "3gc54VAkPb-C",
        "colab": {}
      },
      "cell_type": "code",
      "source": [
        "prediction_test = bst.predict(X_test)\n",
        "prediction_train = bst.predict(X_train)"
      ],
      "execution_count": 0,
      "outputs": []
    },
    {
      "metadata": {
        "id": "gQYzJJmPyZz5",
        "colab_type": "text"
      },
      "cell_type": "markdown",
      "source": [
        "### pytorch net"
      ]
    },
    {
      "metadata": {
        "id": "8NcTk9zNn1nV",
        "colab_type": "code",
        "colab": {}
      },
      "cell_type": "code",
      "source": [
        "n_in = X_train.shape[1]\n",
        "n_out = np.unique(y_train).shape[0]\n",
        "n_hidden = 200"
      ],
      "execution_count": 0,
      "outputs": []
    },
    {
      "metadata": {
        "id": "k__hcqQSn1nb",
        "colab_type": "code",
        "colab": {}
      },
      "cell_type": "code",
      "source": [
        "def init_weights(m):\n",
        "    if type(m) == nn.Linear:\n",
        "        torch.nn.init.kaiming_normal_(m.weight, mode='fan_out', nonlinearity='relu')\n",
        "        m.bias.data.fill_(0.01)"
      ],
      "execution_count": 0,
      "outputs": []
    },
    {
      "metadata": {
        "collapsed": true,
        "id": "WMlvRUOcn1ng",
        "colab_type": "code",
        "outputId": "daeb6324-5764-49a3-d634-45d5cf898368",
        "colab": {
          "base_uri": "https://localhost:8080/",
          "height": 192
        }
      },
      "cell_type": "code",
      "source": [
        "model = nn.Sequential()\n",
        "\n",
        "# dense \"head\"\n",
        "model.add_module('batch0', nn.BatchNorm1d(n_in))\n",
        "model.add_module('dense1', nn.Linear(n_in, n_hidden))\n",
        "model.add_module('batch1', nn.BatchNorm1d(n_hidden))\n",
        "# model.add_module('do1', nn.Dropout(p=0.5))\n",
        "model.add_module('dense1_relu', nn.ReLU())\n",
        "                 \n",
        "model.add_module('dense2', nn.Linear(n_hidden, n_hidden))\n",
        "model.add_module('batch2', nn.BatchNorm1d(n_hidden))\n",
        "# model.add_module('do2', nn.Dropout(p=0.5))\n",
        "model.add_module('dense2_relu', nn.ReLU())\n",
        "                 \n",
        "# model.add_module('dense3', nn.Linear(n_hidden, n_hidden))\n",
        "# model.add_module('batch3', nn.BatchNorm1d(n_hidden))\n",
        "# # model.add_module('do3', nn.Dropout(p=0.5))\n",
        "# model.add_module('dense3_relu', nn.ReLU())\n",
        "\n",
        "# model.add_module('dense4', nn.Linear(n_hidden, n_hidden))\n",
        "# model.add_module('batch4', nn.BatchNorm1d(n_hidden))\n",
        "# # model.add_module('do4', nn.Dropout(p=0.5))\n",
        "# model.add_module('dense4_relu', nn.ReLU())\n",
        "\n",
        "# model.add_module('dense5', nn.Linear(n_hidden, n_hidden))\n",
        "# model.add_module('batch5', nn.BatchNorm1d(n_hidden))\n",
        "# model.add_module('do5', nn.Dropout(p=0.5))\n",
        "# model.add_module('dense5_relu', nn.ReLU())\n",
        "\n",
        "# model.add_module('dense4', nn.Linear(n_hidden, n_hidden))\n",
        "# model.add_module('batch4', nn.BatchNorm1d(n_hidden))\n",
        "# # model.add_module('do2', nn.Dropout(p=0.5))\n",
        "# model.add_module('dense4_relu', nn.ReLU())\n",
        "\n",
        "model.add_module('dense5_logits', nn.Linear(n_hidden, n_out))\n",
        "\n",
        "model.apply(init_weights)\n",
        "model.cuda()"
      ],
      "execution_count": 41,
      "outputs": [
        {
          "output_type": "execute_result",
          "data": {
            "text/plain": [
              "Sequential(\n",
              "  (batch0): BatchNorm1d(30, eps=1e-05, momentum=0.1, affine=True, track_running_stats=True)\n",
              "  (dense1): Linear(in_features=30, out_features=200, bias=True)\n",
              "  (batch1): BatchNorm1d(200, eps=1e-05, momentum=0.1, affine=True, track_running_stats=True)\n",
              "  (dense1_relu): ReLU()\n",
              "  (dense2): Linear(in_features=200, out_features=200, bias=True)\n",
              "  (batch2): BatchNorm1d(200, eps=1e-05, momentum=0.1, affine=True, track_running_stats=True)\n",
              "  (dense2_relu): ReLU()\n",
              "  (dense5_logits): Linear(in_features=200, out_features=2, bias=True)\n",
              ")"
            ]
          },
          "metadata": {
            "tags": []
          },
          "execution_count": 41
        }
      ]
    },
    {
      "metadata": {
        "id": "1GoOqKAcn1nr",
        "colab_type": "code",
        "colab": {}
      },
      "cell_type": "code",
      "source": [
        "def compute_loss(X_batch, y_batch):\n",
        "    X_batch = Variable(torch.FloatTensor(X_batch)).cuda()\n",
        "    y_batch = Variable(torch.LongTensor(y_batch)).cuda()\n",
        "    logits = model(X_batch)\n",
        "    return F.cross_entropy(logits, y_batch).mean()"
      ],
      "execution_count": 0,
      "outputs": []
    },
    {
      "metadata": {
        "id": "e7XT6zAFfZ-O",
        "colab_type": "code",
        "outputId": "2f578875-141a-48c5-e4c7-ff5b704d16f6",
        "colab": {
          "base_uri": "https://localhost:8080/",
          "height": 34
        }
      },
      "cell_type": "code",
      "source": [
        "# # example\n",
        "compute_loss(X_train[:5], y_train[:5])"
      ],
      "execution_count": 43,
      "outputs": [
        {
          "output_type": "execute_result",
          "data": {
            "text/plain": [
              "tensor(0.3955, device='cuda:0', grad_fn=<MeanBackward1>)"
            ]
          },
          "metadata": {
            "tags": []
          },
          "execution_count": 43
        }
      ]
    },
    {
      "metadata": {
        "id": "10K7i0Btn1ny",
        "colab_type": "code",
        "colab": {}
      },
      "cell_type": "code",
      "source": [
        "# An auxilary function that returns mini-batches for neural network training\n",
        "def iterate_minibatches(X, y, batchsize):\n",
        "    indices = np.random.permutation(np.arange(len(X)))\n",
        "    for start in range(0, len(indices), batchsize):\n",
        "        ix = indices[start: start + batchsize]\n",
        "        yield X[ix], y[ix]"
      ],
      "execution_count": 0,
      "outputs": []
    },
    {
      "metadata": {
        "id": "ezmK9uvyn1n1",
        "colab_type": "code",
        "colab": {}
      },
      "cell_type": "code",
      "source": [
        "opt = torch.optim.Adam(model.parameters(),  lr=0.003, betas=(0.9, 0.999), eps=1e-08, weight_decay=0, amsgrad=False)\n",
        "scheduler = torch.optim.lr_scheduler.ReduceLROnPlateau(opt, mode='max', patience=10, factor=0.1)\n",
        "\n",
        "train_loss = []\n",
        "test_accuracy = []\n",
        "test_loss = []\n",
        "epoch_train_loss = []\n",
        "epoch_test_accuracy = []\n",
        "epoch_test_loss = []"
      ],
      "execution_count": 0,
      "outputs": []
    },
    {
      "metadata": {
        "id": "_UN9TaEMECxO",
        "colab_type": "code",
        "outputId": "5991f0aa-1551-4346-d053-0725726635b3",
        "colab": {
          "base_uri": "https://localhost:8080/",
          "height": 4392
        }
      },
      "cell_type": "code",
      "source": [
        "import time\n",
        "num_epochs = 50 # total amount of full passes over training data\n",
        "batch_size = 1000  # number of samples processed in one SGD iteration\n",
        "\n",
        "for epoch in range(num_epochs):\n",
        "    # In each epoch, we do a full pass over the training data:\n",
        "    start_time = time.time()\n",
        "    model.train(True) # enable dropout / batch_norm training behavior\n",
        "    for X_batch, y_batch in iterate_minibatches(X_train, y_train, batch_size):\n",
        "        # train on batch\n",
        "        loss = compute_loss(X_batch, y_batch)\n",
        "        loss.backward()\n",
        "        opt.step()\n",
        "        opt.zero_grad()\n",
        "        train_loss.append(loss.data.cpu().numpy())\n",
        "        \n",
        "    # And a full pass over the validation data:\n",
        "    model.train(False) # disable dropout / use averages for batch_norm\n",
        "    for X_batch, y_batch in iterate_minibatches(X_test, y_test, batch_size):\n",
        "        logits = model(Variable(torch.FloatTensor(X_batch)).cuda())\n",
        "        y_pred = logits.max(1)[1].data.cpu().numpy()\n",
        "        test_accuracy.append(np.mean(y_batch == y_pred))\n",
        "        test_loss.append(compute_loss(X_batch, y_batch).data.cpu().numpy())\n",
        "        \n",
        "    scheduler.step(np.mean(test_accuracy[-len(X_test) // batch_size :]))\n",
        "    \n",
        "    # Then we print the results for this epoch:\n",
        "    print(\"Epoch {} of {} took {:.3f}s\".format(\n",
        "        epoch + 1, num_epochs, time.time() - start_time))\n",
        "    print(\"  training loss (in-iteration): \\t{:.6f}\".format(\n",
        "        np.mean(train_loss[-len(X_train) // batch_size :])))\n",
        "    print(\"  validation accuracy: \\t\\t\\t{:.2f} %\".format(\n",
        "        np.mean(test_accuracy[-len(X_test) // batch_size :]) * 100))\n",
        "    print(\"  test loss       (in-iteration): \\t{:.6f}\\n\".format(\n",
        "        np.mean(test_loss[-len(X_test) // batch_size :])))\n",
        "    \n",
        "    epoch_train_loss.append(np.mean(train_loss[-len(X_train) // batch_size :]))\n",
        "    epoch_test_loss.append(np.mean(test_loss[-len(X_test) // batch_size :]))\n",
        "    epoch_test_accuracy.append(np.mean(test_accuracy[-len(X_test) // batch_size :]) * 100)"
      ],
      "execution_count": 46,
      "outputs": [
        {
          "output_type": "stream",
          "text": [
            "Epoch 1 of 50 took 0.311s\n",
            "  training loss (in-iteration): \t0.640852\n",
            "  validation accuracy: \t\t\t84.00 %\n",
            "  test loss       (in-iteration): \t0.381258\n",
            "\n",
            "Epoch 2 of 50 took 0.275s\n",
            "  training loss (in-iteration): \t0.360634\n",
            "  validation accuracy: \t\t\t85.04 %\n",
            "  test loss       (in-iteration): \t0.348073\n",
            "\n",
            "Epoch 3 of 50 took 0.249s\n",
            "  training loss (in-iteration): \t0.335727\n",
            "  validation accuracy: \t\t\t85.71 %\n",
            "  test loss       (in-iteration): \t0.335791\n",
            "\n",
            "Epoch 4 of 50 took 0.239s\n",
            "  training loss (in-iteration): \t0.321793\n",
            "  validation accuracy: \t\t\t84.95 %\n",
            "  test loss       (in-iteration): \t0.345634\n",
            "\n",
            "Epoch 5 of 50 took 0.241s\n",
            "  training loss (in-iteration): \t0.312299\n",
            "  validation accuracy: \t\t\t86.27 %\n",
            "  test loss       (in-iteration): \t0.329620\n",
            "\n",
            "Epoch 6 of 50 took 0.240s\n",
            "  training loss (in-iteration): \t0.303992\n",
            "  validation accuracy: \t\t\t87.12 %\n",
            "  test loss       (in-iteration): \t0.308322\n",
            "\n",
            "Epoch 7 of 50 took 0.240s\n",
            "  training loss (in-iteration): \t0.292543\n",
            "  validation accuracy: \t\t\t86.85 %\n",
            "  test loss       (in-iteration): \t0.310963\n",
            "\n",
            "Epoch 8 of 50 took 0.239s\n",
            "  training loss (in-iteration): \t0.289745\n",
            "  validation accuracy: \t\t\t86.09 %\n",
            "  test loss       (in-iteration): \t0.321012\n",
            "\n",
            "Epoch 9 of 50 took 0.242s\n",
            "  training loss (in-iteration): \t0.287982\n",
            "  validation accuracy: \t\t\t85.16 %\n",
            "  test loss       (in-iteration): \t0.348977\n",
            "\n",
            "Epoch 10 of 50 took 0.239s\n",
            "  training loss (in-iteration): \t0.277721\n",
            "  validation accuracy: \t\t\t87.58 %\n",
            "  test loss       (in-iteration): \t0.298001\n",
            "\n",
            "Epoch 11 of 50 took 0.248s\n",
            "  training loss (in-iteration): \t0.271826\n",
            "  validation accuracy: \t\t\t87.08 %\n",
            "  test loss       (in-iteration): \t0.300264\n",
            "\n",
            "Epoch 12 of 50 took 0.238s\n",
            "  training loss (in-iteration): \t0.271287\n",
            "  validation accuracy: \t\t\t87.14 %\n",
            "  test loss       (in-iteration): \t0.298041\n",
            "\n",
            "Epoch 13 of 50 took 0.243s\n",
            "  training loss (in-iteration): \t0.268873\n",
            "  validation accuracy: \t\t\t87.84 %\n",
            "  test loss       (in-iteration): \t0.286677\n",
            "\n",
            "Epoch 14 of 50 took 0.238s\n",
            "  training loss (in-iteration): \t0.266397\n",
            "  validation accuracy: \t\t\t87.34 %\n",
            "  test loss       (in-iteration): \t0.305130\n",
            "\n",
            "Epoch 15 of 50 took 0.238s\n",
            "  training loss (in-iteration): \t0.265665\n",
            "  validation accuracy: \t\t\t87.53 %\n",
            "  test loss       (in-iteration): \t0.297932\n",
            "\n",
            "Epoch 16 of 50 took 0.238s\n",
            "  training loss (in-iteration): \t0.266433\n",
            "  validation accuracy: \t\t\t87.11 %\n",
            "  test loss       (in-iteration): \t0.304669\n",
            "\n",
            "Epoch 17 of 50 took 0.243s\n",
            "  training loss (in-iteration): \t0.255924\n",
            "  validation accuracy: \t\t\t87.93 %\n",
            "  test loss       (in-iteration): \t0.287705\n",
            "\n",
            "Epoch 18 of 50 took 0.237s\n",
            "  training loss (in-iteration): \t0.254333\n",
            "  validation accuracy: \t\t\t87.88 %\n",
            "  test loss       (in-iteration): \t0.295170\n",
            "\n",
            "Epoch 19 of 50 took 0.240s\n",
            "  training loss (in-iteration): \t0.252429\n",
            "  validation accuracy: \t\t\t87.99 %\n",
            "  test loss       (in-iteration): \t0.283341\n",
            "\n",
            "Epoch 20 of 50 took 0.237s\n",
            "  training loss (in-iteration): \t0.246430\n",
            "  validation accuracy: \t\t\t88.37 %\n",
            "  test loss       (in-iteration): \t0.285291\n",
            "\n",
            "Epoch 21 of 50 took 0.243s\n",
            "  training loss (in-iteration): \t0.238884\n",
            "  validation accuracy: \t\t\t88.30 %\n",
            "  test loss       (in-iteration): \t0.282810\n",
            "\n",
            "Epoch 22 of 50 took 0.237s\n",
            "  training loss (in-iteration): \t0.234003\n",
            "  validation accuracy: \t\t\t88.20 %\n",
            "  test loss       (in-iteration): \t0.282821\n",
            "\n",
            "Epoch 23 of 50 took 0.241s\n",
            "  training loss (in-iteration): \t0.231523\n",
            "  validation accuracy: \t\t\t88.69 %\n",
            "  test loss       (in-iteration): \t0.270871\n",
            "\n",
            "Epoch 24 of 50 took 0.237s\n",
            "  training loss (in-iteration): \t0.230783\n",
            "  validation accuracy: \t\t\t88.27 %\n",
            "  test loss       (in-iteration): \t0.278235\n",
            "\n",
            "Epoch 25 of 50 took 0.237s\n",
            "  training loss (in-iteration): \t0.227776\n",
            "  validation accuracy: \t\t\t87.97 %\n",
            "  test loss       (in-iteration): \t0.289106\n",
            "\n",
            "Epoch 26 of 50 took 0.244s\n",
            "  training loss (in-iteration): \t0.228494\n",
            "  validation accuracy: \t\t\t89.14 %\n",
            "  test loss       (in-iteration): \t0.272425\n",
            "\n",
            "Epoch 27 of 50 took 0.237s\n",
            "  training loss (in-iteration): \t0.221105\n",
            "  validation accuracy: \t\t\t89.12 %\n",
            "  test loss       (in-iteration): \t0.263778\n",
            "\n",
            "Epoch 28 of 50 took 0.238s\n",
            "  training loss (in-iteration): \t0.219398\n",
            "  validation accuracy: \t\t\t88.79 %\n",
            "  test loss       (in-iteration): \t0.273574\n",
            "\n",
            "Epoch 29 of 50 took 0.238s\n",
            "  training loss (in-iteration): \t0.220032\n",
            "  validation accuracy: \t\t\t87.42 %\n",
            "  test loss       (in-iteration): \t0.306176\n",
            "\n",
            "Epoch 30 of 50 took 0.242s\n",
            "  training loss (in-iteration): \t0.216602\n",
            "  validation accuracy: \t\t\t88.81 %\n",
            "  test loss       (in-iteration): \t0.279584\n",
            "\n",
            "Epoch 31 of 50 took 0.239s\n",
            "  training loss (in-iteration): \t0.221299\n",
            "  validation accuracy: \t\t\t89.05 %\n",
            "  test loss       (in-iteration): \t0.269430\n",
            "\n",
            "Epoch 32 of 50 took 0.238s\n",
            "  training loss (in-iteration): \t0.214834\n",
            "  validation accuracy: \t\t\t89.61 %\n",
            "  test loss       (in-iteration): \t0.257851\n",
            "\n",
            "Epoch 33 of 50 took 0.239s\n",
            "  training loss (in-iteration): \t0.208526\n",
            "  validation accuracy: \t\t\t88.43 %\n",
            "  test loss       (in-iteration): \t0.279734\n",
            "\n",
            "Epoch 34 of 50 took 0.242s\n",
            "  training loss (in-iteration): \t0.210607\n",
            "  validation accuracy: \t\t\t89.04 %\n",
            "  test loss       (in-iteration): \t0.266055\n",
            "\n",
            "Epoch 35 of 50 took 0.241s\n",
            "  training loss (in-iteration): \t0.208160\n",
            "  validation accuracy: \t\t\t89.51 %\n",
            "  test loss       (in-iteration): \t0.257963\n",
            "\n",
            "Epoch 36 of 50 took 0.238s\n",
            "  training loss (in-iteration): \t0.209912\n",
            "  validation accuracy: \t\t\t89.08 %\n",
            "  test loss       (in-iteration): \t0.267074\n",
            "\n",
            "Epoch 37 of 50 took 0.239s\n",
            "  training loss (in-iteration): \t0.202545\n",
            "  validation accuracy: \t\t\t90.02 %\n",
            "  test loss       (in-iteration): \t0.255733\n",
            "\n",
            "Epoch 38 of 50 took 0.238s\n",
            "  training loss (in-iteration): \t0.204212\n",
            "  validation accuracy: \t\t\t88.44 %\n",
            "  test loss       (in-iteration): \t0.284522\n",
            "\n",
            "Epoch 39 of 50 took 0.243s\n",
            "  training loss (in-iteration): \t0.202610\n",
            "  validation accuracy: \t\t\t89.24 %\n",
            "  test loss       (in-iteration): \t0.272141\n",
            "\n",
            "Epoch 40 of 50 took 0.240s\n",
            "  training loss (in-iteration): \t0.198877\n",
            "  validation accuracy: \t\t\t89.43 %\n",
            "  test loss       (in-iteration): \t0.263834\n",
            "\n",
            "Epoch 41 of 50 took 0.239s\n",
            "  training loss (in-iteration): \t0.195066\n",
            "  validation accuracy: \t\t\t88.89 %\n",
            "  test loss       (in-iteration): \t0.267483\n",
            "\n",
            "Epoch 42 of 50 took 0.237s\n",
            "  training loss (in-iteration): \t0.192172\n",
            "  validation accuracy: \t\t\t89.69 %\n",
            "  test loss       (in-iteration): \t0.266922\n",
            "\n",
            "Epoch 43 of 50 took 0.245s\n",
            "  training loss (in-iteration): \t0.199035\n",
            "  validation accuracy: \t\t\t89.17 %\n",
            "  test loss       (in-iteration): \t0.270093\n",
            "\n",
            "Epoch 44 of 50 took 0.238s\n",
            "  training loss (in-iteration): \t0.193987\n",
            "  validation accuracy: \t\t\t89.21 %\n",
            "  test loss       (in-iteration): \t0.264887\n",
            "\n",
            "Epoch 45 of 50 took 0.239s\n",
            "  training loss (in-iteration): \t0.188549\n",
            "  validation accuracy: \t\t\t89.68 %\n",
            "  test loss       (in-iteration): \t0.255845\n",
            "\n",
            "Epoch 46 of 50 took 0.237s\n",
            "  training loss (in-iteration): \t0.190939\n",
            "  validation accuracy: \t\t\t90.15 %\n",
            "  test loss       (in-iteration): \t0.251564\n",
            "\n",
            "Epoch 47 of 50 took 0.241s\n",
            "  training loss (in-iteration): \t0.186216\n",
            "  validation accuracy: \t\t\t89.45 %\n",
            "  test loss       (in-iteration): \t0.265314\n",
            "\n",
            "Epoch 48 of 50 took 0.239s\n",
            "  training loss (in-iteration): \t0.185461\n",
            "  validation accuracy: \t\t\t89.34 %\n",
            "  test loss       (in-iteration): \t0.268072\n",
            "\n",
            "Epoch 49 of 50 took 0.240s\n",
            "  training loss (in-iteration): \t0.183595\n",
            "  validation accuracy: \t\t\t88.81 %\n",
            "  test loss       (in-iteration): \t0.274740\n",
            "\n",
            "Epoch 50 of 50 took 0.237s\n",
            "  training loss (in-iteration): \t0.182805\n",
            "  validation accuracy: \t\t\t88.91 %\n",
            "  test loss       (in-iteration): \t0.274043\n",
            "\n"
          ],
          "name": "stdout"
        }
      ]
    },
    {
      "metadata": {
        "id": "mFil60I_nmT2",
        "colab_type": "code",
        "outputId": "4f0e31b7-8f09-462d-e1d6-9cda61a48561",
        "colab": {
          "base_uri": "https://localhost:8080/",
          "height": 295
        }
      },
      "cell_type": "code",
      "source": [
        "fig = plt.figure()\n",
        "plt.plot(epoch_train_loss)\n",
        "plt.plot(epoch_test_loss)\n",
        "plt.title('logloss')\n",
        "# plt.ylabel('loss')\n",
        "plt.xlabel('epoch')\n",
        "plt.legend(['train', 'test'], loc='upper right')\n",
        "fig.show()\n",
        "# fig.savefig('loss' + postfix + '.pdf')"
      ],
      "execution_count": 50,
      "outputs": [
        {
          "output_type": "display_data",
          "data": {
            "image/png": "[encoded data removed]",
            "text/plain": [
              "<Figure size 432x288 with 1 Axes>"
            ]
          },
          "metadata": {
            "tags": []
          }
        }
      ]
    },
    {
      "metadata": {
        "id": "kOzv4wTxoKBE",
        "colab_type": "code",
        "colab": {}
      },
      "cell_type": "code",
      "source": [
        "logits = model(Variable(torch.FloatTensor(X_test)).cuda())\n",
        "test_proba = F.softmax(logits.cpu()).data.numpy()[:, 1]"
      ],
      "execution_count": 0,
      "outputs": []
    },
    {
      "metadata": {
        "id": "Y5cn8qHZn-ca",
        "colab_type": "code",
        "outputId": "000fd290-f55e-4bbf-994e-406835bb9583",
        "colab": {
          "base_uri": "https://localhost:8080/",
          "height": 69
        }
      },
      "cell_type": "code",
      "source": [
        "print(f'ROC AUC = {roc_auc_score(y_test, test_proba)}')\n",
        "print(f'log loss = {log_loss(y_test,test_proba)}')\n",
        "print(f'Matthews correlation coefficient = {matthews_corrcoef(y_test, test_proba > 0.5):.3f}')"
      ],
      "execution_count": 44,
      "outputs": [
        {
          "output_type": "stream",
          "text": [
            "ROC AUC = 0.9650194384244923\n",
            "log loss = 0.24553227996702148\n",
            "Matthews correlation coefficient = 0.807\n"
          ],
          "name": "stdout"
        }
      ]
    },
    {
      "metadata": {
        "id": "3NFjYIWGQpAU",
        "colab_type": "text"
      },
      "cell_type": "markdown",
      "source": [
        "### keras net"
      ]
    },
    {
      "metadata": {
        "id": "778eZAZlJ4W0",
        "colab_type": "code",
        "colab": {
          "base_uri": "https://localhost:8080/",
          "height": 34
        },
        "outputId": "6c2da3d8-bd65-43cf-c449-5b6a72b1a68a"
      },
      "cell_type": "code",
      "source": [
        "from keras.models import Sequential\n",
        "from keras.layers import Dense, Activation, Dropout, BatchNormalization\n",
        "from keras import optimizers, losses, metrics, initializers\n",
        "from keras.callbacks import ReduceLROnPlateau, EarlyStopping\n",
        "import keras.backend as K\n",
        "\n",
        "import tensorflow as tf \n",
        "tf.set_random_seed(123)"
      ],
      "execution_count": 16,
      "outputs": [
        {
          "output_type": "stream",
          "text": [
            "Using TensorFlow backend.\n"
          ],
          "name": "stderr"
        }
      ]
    },
    {
      "metadata": {
        "id": "ja9kg0ahNUU3",
        "colab_type": "code",
        "colab": {}
      },
      "cell_type": "code",
      "source": [
        "AMS_metric_cut = 0.2#0.99822"
      ],
      "execution_count": 0,
      "outputs": []
    },
    {
      "metadata": {
        "id": "IaHAnbAazzjO",
        "colab_type": "code",
        "colab": {}
      },
      "cell_type": "code",
      "source": [
        "def AMS_cut_tf(cut, prediction, true_labels, sig_sum_w = sig_sum_w, bkgr_sum_w = bkgr_sum_w, br = 0.00000001): #, prediction = prediction_test, true_labels = y_test\n",
        "\n",
        "    s = K.all(K.stack([K.greater(prediction, cut[0]) , (K.equal(true_labels, 1))], axis=0), axis=0)\n",
        "    b = K.all(K.stack([K.greater(prediction, cut[0]) , (K.equal(true_labels, 0))], axis=0), axis=0)\n",
        "    s = K.cast(s, dtype='float32')\n",
        "    b = K.cast(b, dtype='float32')\n",
        "    \n",
        "    \n",
        "    s_weight = K.constant(sig_sum_w)  / K.sum(K.cast(K.equal(true_labels, 1), dtype='float32'))\n",
        "    b_weight = K.constant(bkgr_sum_w) / K.sum(K.cast(K.equal(true_labels, 0), dtype='float32'))\n",
        "    \n",
        "    s = s * s_weight; b = b * b_weight\n",
        "    s = K.sum(s); b = K.sum(b)\n",
        "#     print(s)\n",
        "#     print(b)\n",
        "    radicand = 2 *( (s+b+br) * K.log (1.0 + s/(b+br)) - s)\n",
        "#     if radicand < 0:\n",
        "#         print('radicand is negative. Exiting')\n",
        "#         return -1\n",
        "#     else:\n",
        "    ams = K.switch(K.greater(s+b, K.constant(10)), K.sqrt(radicand), K.constant(0))\n",
        "    return ams\n",
        "\n",
        "def AMS_eval_tf(y_true, y_pred):\n",
        "    return -AMS_cut_tf([AMS_metric_cut], sig_sum_w = sig_sum_w, bkgr_sum_w = bkgr_sum_w, prediction = y_pred, true_labels = y_true)"
      ],
      "execution_count": 0,
      "outputs": []
    },
    {
      "metadata": {
        "id": "9vPtcNdshibR",
        "colab_type": "code",
        "colab": {}
      },
      "cell_type": "code",
      "source": [
        "def binary_focal_loss(y_true, y_pred):\n",
        "#     \"\"\"\n",
        "#     Binary form of focal loss.\n",
        "#       FL(p_t) = -alpha * (1 - p_t)**gamma * log(p_t)\n",
        "#       where p = sigmoid(x), p_t = p or 1 - p depending on if the label is 1 or 0, respectively.\n",
        "#     References:\n",
        "#         https://arxiv.org/pdf/1708.02002.pdf\n",
        "#     Usage:\n",
        "#      model.compile(loss=[binary_focal_loss(alpha=.25, gamma=2)], metrics=[\"accuracy\"], optimizer=adam)\n",
        "#     \"\"\"\n",
        "#     def binary_focal_loss_fixed(y_true, y_pred):\n",
        "    \"\"\"\n",
        "    :param y_true: A tensor of the same shape as `y_pred`\n",
        "    :param y_pred:  A tensor resulting from a sigmoid\n",
        "    :return: Output tensor.\n",
        "    \"\"\"\n",
        "    pt_1 = tf.where(tf.equal(y_true, 1), y_pred, tf.ones_like(y_pred))\n",
        "    pt_0 = tf.where(tf.equal(y_true, 0), y_pred, tf.zeros_like(y_pred))\n",
        "\n",
        "    epsilon = K.epsilon()\n",
        "    # clip to prevent NaN's and Inf's\n",
        "    pt_1 = K.clip(pt_1, epsilon, 1. - epsilon)\n",
        "    pt_0 = K.clip(pt_0, epsilon, 1. - epsilon)\n",
        "    \n",
        "    alpha = 0.001\n",
        "    gamma = 2.\n",
        "    \n",
        "    return -K.sum(alpha * K.pow(1. - pt_1, gamma) * K.log(pt_1)) \\\n",
        "           -K.sum((1 - alpha) * K.pow(pt_0, gamma) * K.log(1. - pt_0))\n",
        "\n"
      ],
      "execution_count": 0,
      "outputs": []
    },
    {
      "metadata": {
        "id": "wDPVzLyQQqvI",
        "colab_type": "code",
        "colab": {
          "base_uri": "https://localhost:8080/",
          "height": 89
        },
        "outputId": "06964521-ad6e-443b-af94-71205ae34d3e"
      },
      "cell_type": "code",
      "source": [
        "_lr = 0.003\n",
        "optim = optimizers.Adam(lr=_lr, beta_1=0.9, beta_2=0.999, epsilon=1e-08, decay=0.0, amsgrad=False)\n",
        "loss  = losses.binary_crossentropy\n",
        "w_init = initializers.he_normal(seed=123)\n",
        "bias_init = initializers.Constant(value=0.01)\n",
        "\n",
        "reduce_lr = ReduceLROnPlateau(monitor='val_loss', factor=0.1, patience=10, min_lr=_lr*0.01)\n",
        "es = EarlyStopping(monitor='val_loss', min_delta=1e-2, patience=30, verbose=0, mode='min', baseline=None, restore_best_weights=False)\n",
        "\n",
        "num_epochs = 1000\n",
        "batch_size = 1000"
      ],
      "execution_count": 18,
      "outputs": [
        {
          "output_type": "stream",
          "text": [
            "WARNING:tensorflow:From /usr/local/lib/python3.6/dist-packages/tensorflow/python/framework/op_def_library.py:263: colocate_with (from tensorflow.python.framework.ops) is deprecated and will be removed in a future version.\n",
            "Instructions for updating:\n",
            "Colocations handled automatically by placer.\n"
          ],
          "name": "stdout"
        }
      ]
    },
    {
      "metadata": {
        "id": "HPibiNHQSjZm",
        "colab_type": "code",
        "outputId": "8ae38546-7fdd-4aa4-d73f-3e2a62741ebe",
        "colab": {
          "base_uri": "https://localhost:8080/",
          "height": 1874
        }
      },
      "cell_type": "code",
      "source": [
        "model = Sequential()\n",
        "model.add(BatchNormalization(axis=-1, momentum=0.1, epsilon=1e-05, center=True, scale=True, \n",
        "                             beta_initializer='zeros', gamma_initializer='ones', moving_mean_initializer='zeros', moving_variance_initializer='ones'))\n",
        "          \n",
        "model.add(Dense(200, input_dim=X_train.shape[1], kernel_initializer=w_init, bias_initializer=bias_init))          \n",
        "model.add(BatchNormalization(axis=-1, momentum=0.1, epsilon=1e-05, center=True, scale=True, \n",
        "                             beta_initializer='zeros', gamma_initializer='ones', moving_mean_initializer='zeros', moving_variance_initializer='ones'))\n",
        "model.add(Activation('relu'))\n",
        "\n",
        "model.add(Dense(200,kernel_initializer=w_init, bias_initializer=bias_init))       \n",
        "model.add(BatchNormalization(axis=-1, momentum=0.1, epsilon=1e-05, center=True, scale=True, \n",
        "                             beta_initializer='zeros', gamma_initializer='ones', moving_mean_initializer='zeros', moving_variance_initializer='ones'))\n",
        "model.add(Activation('relu'))\n",
        "\n",
        "# model.add(Dense(200,kernel_initializer=w_init, bias_initializer=bias_init))\n",
        "# model.add(BatchNormalization(axis=-1, momentum=0.1, epsilon=1e-05, center=True, scale=True, \n",
        "#                              beta_initializer='zeros', gamma_initializer='ones', moving_mean_initializer='zeros', moving_variance_initializer='ones'))\n",
        "# model.add(Activation('relu'))\n",
        "\n",
        "model.add(Dense(1, activation='sigmoid'))\n",
        "\n",
        "          \n",
        "model.compile(loss=loss, #binary_focal_loss\n",
        "              optimizer=optim,\n",
        "              metrics=[]) #, 'binary_crossentropy', AMS_eval_tf, 'acc', \n",
        "\n",
        "history = model.fit(X_train, y_train,\n",
        "          epochs=num_epochs,\n",
        "          callbacks=[reduce_lr, es],\n",
        "          batch_size=batch_size,\n",
        "          validation_data=(X_test, y_test)\n",
        "         )\n",
        "\n",
        "score = model.evaluate(X_val, y_val, batch_size=batch_size)"
      ],
      "execution_count": 19,
      "outputs": [
        {
          "output_type": "stream",
          "text": [
            "WARNING:tensorflow:From /usr/local/lib/python3.6/dist-packages/tensorflow/python/ops/math_ops.py:3066: to_int32 (from tensorflow.python.ops.math_ops) is deprecated and will be removed in a future version.\n",
            "Instructions for updating:\n",
            "Use tf.cast instead.\n",
            "Train on 44652 samples, validate on 14885 samples\n",
            "Epoch 1/1000\n",
            "44652/44652 [==============================] - 7s 148us/step - loss: 0.3832 - val_loss: 0.3322\n",
            "Epoch 2/1000\n",
            "44652/44652 [==============================] - 1s 12us/step - loss: 0.3241 - val_loss: 0.3185\n",
            "Epoch 3/1000\n",
            "44652/44652 [==============================] - 1s 11us/step - loss: 0.3109 - val_loss: 0.3125\n",
            "Epoch 4/1000\n",
            "44652/44652 [==============================] - 1s 12us/step - loss: 0.3022 - val_loss: 0.3107\n",
            "Epoch 5/1000\n",
            "44652/44652 [==============================] - 1s 11us/step - loss: 0.2929 - val_loss: 0.2997\n",
            "Epoch 6/1000\n",
            "44652/44652 [==============================] - 1s 12us/step - loss: 0.2808 - val_loss: 0.2874\n",
            "Epoch 7/1000\n",
            "44652/44652 [==============================] - 1s 11us/step - loss: 0.2728 - val_loss: 0.2817\n",
            "Epoch 8/1000\n",
            "44652/44652 [==============================] - 1s 11us/step - loss: 0.2659 - val_loss: 0.2779\n",
            "Epoch 9/1000\n",
            "44652/44652 [==============================] - 1s 11us/step - loss: 0.2598 - val_loss: 0.2761\n",
            "Epoch 10/1000\n",
            "44652/44652 [==============================] - 1s 11us/step - loss: 0.2518 - val_loss: 0.2650\n",
            "Epoch 11/1000\n",
            "44652/44652 [==============================] - 1s 11us/step - loss: 0.2457 - val_loss: 0.2601\n",
            "Epoch 12/1000\n",
            "44652/44652 [==============================] - 1s 12us/step - loss: 0.2397 - val_loss: 0.2715\n",
            "Epoch 13/1000\n",
            "44652/44652 [==============================] - 1s 11us/step - loss: 0.2378 - val_loss: 0.2549\n",
            "Epoch 14/1000\n",
            "44652/44652 [==============================] - 1s 12us/step - loss: 0.2321 - val_loss: 0.2556\n",
            "Epoch 15/1000\n",
            "44652/44652 [==============================] - 0s 11us/step - loss: 0.2260 - val_loss: 0.2479\n",
            "Epoch 16/1000\n",
            "44652/44652 [==============================] - 1s 11us/step - loss: 0.2245 - val_loss: 0.2494\n",
            "Epoch 17/1000\n",
            "44652/44652 [==============================] - 1s 11us/step - loss: 0.2187 - val_loss: 0.2469\n",
            "Epoch 18/1000\n",
            "44652/44652 [==============================] - 1s 11us/step - loss: 0.2157 - val_loss: 0.2575\n",
            "Epoch 19/1000\n",
            "44652/44652 [==============================] - 0s 11us/step - loss: 0.2162 - val_loss: 0.2514\n",
            "Epoch 20/1000\n",
            "44652/44652 [==============================] - 1s 11us/step - loss: 0.2114 - val_loss: 0.2433\n",
            "Epoch 21/1000\n",
            "44652/44652 [==============================] - 1s 11us/step - loss: 0.2093 - val_loss: 0.2396\n",
            "Epoch 22/1000\n",
            "44652/44652 [==============================] - 1s 11us/step - loss: 0.2035 - val_loss: 0.2687\n",
            "Epoch 23/1000\n",
            "44652/44652 [==============================] - 1s 11us/step - loss: 0.2053 - val_loss: 0.2425\n",
            "Epoch 24/1000\n",
            "44652/44652 [==============================] - 1s 12us/step - loss: 0.1985 - val_loss: 0.2508\n",
            "Epoch 25/1000\n",
            "44652/44652 [==============================] - 1s 11us/step - loss: 0.1954 - val_loss: 0.2536\n",
            "Epoch 26/1000\n",
            "44652/44652 [==============================] - 1s 11us/step - loss: 0.1957 - val_loss: 0.2469\n",
            "Epoch 27/1000\n",
            "44652/44652 [==============================] - 0s 11us/step - loss: 0.1932 - val_loss: 0.2518\n",
            "Epoch 28/1000\n",
            "44652/44652 [==============================] - 1s 11us/step - loss: 0.1915 - val_loss: 0.2437\n",
            "Epoch 29/1000\n",
            "44652/44652 [==============================] - 1s 11us/step - loss: 0.1865 - val_loss: 0.2442\n",
            "Epoch 30/1000\n",
            "44652/44652 [==============================] - 1s 11us/step - loss: 0.1841 - val_loss: 0.2519\n",
            "Epoch 31/1000\n",
            "44652/44652 [==============================] - 0s 11us/step - loss: 0.1824 - val_loss: 0.2451\n",
            "Epoch 32/1000\n",
            "44652/44652 [==============================] - 1s 11us/step - loss: 0.1646 - val_loss: 0.2342\n",
            "Epoch 33/1000\n",
            "44652/44652 [==============================] - 1s 11us/step - loss: 0.1604 - val_loss: 0.2351\n",
            "Epoch 34/1000\n",
            "44652/44652 [==============================] - 1s 12us/step - loss: 0.1574 - val_loss: 0.2350\n",
            "Epoch 35/1000\n",
            "44652/44652 [==============================] - 0s 11us/step - loss: 0.1565 - val_loss: 0.2392\n",
            "Epoch 36/1000\n",
            "44652/44652 [==============================] - 1s 11us/step - loss: 0.1560 - val_loss: 0.2341\n",
            "Epoch 37/1000\n",
            "44652/44652 [==============================] - 0s 11us/step - loss: 0.1555 - val_loss: 0.2352\n",
            "Epoch 38/1000\n",
            "44652/44652 [==============================] - 1s 12us/step - loss: 0.1543 - val_loss: 0.2370\n",
            "Epoch 39/1000\n",
            "44652/44652 [==============================] - 1s 11us/step - loss: 0.1531 - val_loss: 0.2374\n",
            "Epoch 40/1000\n",
            "44652/44652 [==============================] - 1s 12us/step - loss: 0.1523 - val_loss: 0.2360\n",
            "Epoch 41/1000\n",
            "44652/44652 [==============================] - 1s 11us/step - loss: 0.1524 - val_loss: 0.2384\n",
            "Epoch 42/1000\n",
            "44652/44652 [==============================] - 1s 11us/step - loss: 0.1513 - val_loss: 0.2367\n",
            "Epoch 43/1000\n",
            "44652/44652 [==============================] - 0s 11us/step - loss: 0.1509 - val_loss: 0.2400\n",
            "Epoch 44/1000\n",
            "44652/44652 [==============================] - 0s 11us/step - loss: 0.1499 - val_loss: 0.2353\n",
            "Epoch 45/1000\n",
            "44652/44652 [==============================] - 1s 11us/step - loss: 0.1495 - val_loss: 0.2425\n",
            "Epoch 46/1000\n",
            "44652/44652 [==============================] - 0s 11us/step - loss: 0.1491 - val_loss: 0.2440\n",
            "Epoch 47/1000\n",
            "44652/44652 [==============================] - 0s 11us/step - loss: 0.1463 - val_loss: 0.2386\n",
            "Epoch 48/1000\n",
            "44652/44652 [==============================] - 1s 11us/step - loss: 0.1453 - val_loss: 0.2427\n",
            "Epoch 49/1000\n",
            "44652/44652 [==============================] - 1s 11us/step - loss: 0.1456 - val_loss: 0.2409\n",
            "Epoch 50/1000\n",
            "44652/44652 [==============================] - 1s 11us/step - loss: 0.1451 - val_loss: 0.2384\n",
            "14885/14885 [==============================] - 0s 3us/step\n"
          ],
          "name": "stdout"
        }
      ]
    },
    {
      "metadata": {
        "id": "FI-qJm5rdGj5",
        "colab_type": "code",
        "colab": {
          "base_uri": "https://localhost:8080/",
          "height": 69
        },
        "outputId": "b2b16450-9a04-4169-ef8e-e615f42ec5e5"
      },
      "cell_type": "code",
      "source": [
        "test_proba = model.predict(X_test)[:, 0]\n",
        "\n",
        "print(f'ROC AUC = {roc_auc_score(y_test, test_proba)}')\n",
        "print(f'log loss = {log_loss(y_test,test_proba)}')\n",
        "print(f'Matthews correlation coefficient = {matthews_corrcoef(y_test, test_proba > 0.5):.3f}')"
      ],
      "execution_count": 20,
      "outputs": [
        {
          "output_type": "stream",
          "text": [
            "ROC AUC = 0.965874092895489\n",
            "log loss = 0.23844307306617965\n",
            "Matthews correlation coefficient = 0.810\n"
          ],
          "name": "stdout"
        }
      ]
    },
    {
      "metadata": {
        "id": "24nCVVaCClCn",
        "colab_type": "code",
        "outputId": "a4e84098-0427-4029-afcb-3afd691bbeaa",
        "colab": {
          "base_uri": "https://localhost:8080/",
          "height": 590
        }
      },
      "cell_type": "code",
      "source": [
        "print(history.history.keys())\n",
        "\n",
        "# postfix = 'CEL'#'_FL_p1'\n",
        "# # summarize history for accuracy\n",
        "# fig = plt.figure()\n",
        "# plt.plot(history.history['acc'])\n",
        "# plt.plot(history.history['val_acc'])\n",
        "# plt.title('accuracy')\n",
        "# # plt.ylabel('accuracy')\n",
        "# plt.xlabel('epoch')\n",
        "# plt.legend(['train', 'test'], loc='upper right')\n",
        "# fig.show()\n",
        "# # fig.savefig('acc' + postfix + '.pdf')\n",
        "\n",
        "# summarize history for loss\n",
        "fig = plt.figure()\n",
        "plt.plot(history.history['loss'])\n",
        "plt.plot(history.history['val_loss'])\n",
        "plt.title('logloss')\n",
        "# plt.ylabel('loss')\n",
        "plt.xlabel('epoch')\n",
        "plt.legend(['train', 'test'], loc='upper right')\n",
        "fig.show()\n",
        "# fig.savefig('loss' + postfix + '.pdf')\n",
        "\n",
        "# # summarize history for AMS\n",
        "# fig = plt.figure()\n",
        "# plt.plot(history.history['AMS_eval_tf'])\n",
        "# plt.plot(history.history['val_AMS_eval_tf'])\n",
        "# plt.title('AMS')\n",
        "# # plt.ylabel('AMS')\n",
        "# plt.xlabel('epoch')\n",
        "# plt.legend(['train', 'test'], loc='upper right')\n",
        "# # plt.ylim((-2,-1.5))\n",
        "# fig.show()\n",
        "# # fig.savefig('AMS' + postfix + '.pdf')\n",
        "\n",
        "# learning rate\n",
        "fig = plt.figure()\n",
        "plt.plot(history.history['lr'])\n",
        "plt.title('learning rate')\n",
        "# plt.ylabel('LR')\n",
        "plt.xlabel('epoch')\n",
        "# plt.legend(['train', 'test'], loc='upper right')\n",
        "fig.show()\n",
        "# fig.savefig('LR' + postfix + '.pdf')"
      ],
      "execution_count": 55,
      "outputs": [
        {
          "output_type": "stream",
          "text": [
            "dict_keys(['val_loss', 'loss', 'lr'])\n"
          ],
          "name": "stdout"
        },
        {
          "output_type": "display_data",
          "data": {
            "image/png": "[encoded data removed]",
            "text/plain": [
              "<Figure size 432x288 with 1 Axes>"
            ]
          },
          "metadata": {
            "tags": []
          }
        },
        {
          "output_type": "display_data",
          "data": {
            "image/png": "[encoded data removed]",
            "text/plain": [
              "<Figure size 432x288 with 1 Axes>"
            ]
          },
          "metadata": {
            "tags": []
          }
        }
      ]
    },
    {
      "metadata": {
        "id": "uctm1ckSFYJZ",
        "colab_type": "code",
        "outputId": "74232170-86e9-4915-caaf-362a66ee200b",
        "colab": {
          "base_uri": "https://localhost:8080/",
          "height": 52
        }
      },
      "cell_type": "code",
      "source": [
        "score = model.evaluate(X_val, y_val, batch_size=batch_size)\n",
        "score"
      ],
      "execution_count": 0,
      "outputs": [
        {
          "output_type": "stream",
          "text": [
            "14885/14885 [==============================] - 0s 4us/step\n"
          ],
          "name": "stdout"
        },
        {
          "output_type": "execute_result",
          "data": {
            "text/plain": [
              "[149.83467346539945, 0.8614040930518617, 1.073493946307371]"
            ]
          },
          "metadata": {
            "tags": []
          },
          "execution_count": 200
        }
      ]
    },
    {
      "metadata": {
        "id": "JXrA8QEKosOE",
        "colab_type": "text"
      },
      "cell_type": "markdown",
      "source": [
        "#### **AMS opt**"
      ]
    },
    {
      "metadata": {
        "id": "-Pj8eksrKYgh",
        "colab_type": "code",
        "colab": {}
      },
      "cell_type": "code",
      "source": [
        "sig_sum_w = 100; bkgr_sum_w = 100000; "
      ],
      "execution_count": 0,
      "outputs": []
    },
    {
      "metadata": {
        "id": "givyVTMezj5M",
        "colab_type": "code",
        "colab": {}
      },
      "cell_type": "code",
      "source": [
        "def AMS_cut(cut, prediction, true_labels, sig_sum_w = sig_sum_w, bkgr_sum_w = bkgr_sum_w, br = 0.00000001): #, prediction = prediction_test, true_labels = y_test\n",
        "\n",
        "    s = np.array((prediction > cut[0]) * (true_labels == 1), dtype='float32')\n",
        "    b = np.array((prediction > cut[0]) * (true_labels == 0), dtype='float32')\n",
        "\n",
        "    s_weight = sig_sum_w  / np.argwhere(true_labels == 1).shape[0]\n",
        "    b_weight = bkgr_sum_w / np.argwhere(true_labels == 0).shape[0]\n",
        "\n",
        "    s *= s_weight; b *= b_weight\n",
        "    s = sum(s); b = sum(b)\n",
        "#     print(s_weight, b_weight)\n",
        "#     print(s)\n",
        "#     print(b)\n",
        "    radicand = 2 *( (s+b+br) * math.log (1.0 + s/(b+br)) - s)\n",
        "#     if radicand < 0:\n",
        "#         print('radicand is negative. Exiting')\n",
        "#         return -1\n",
        "#     else:\n",
        "    ams = math.sqrt(radicand) if s+b > 10 else 0\n",
        "    return ams"
      ],
      "execution_count": 0,
      "outputs": []
    },
    {
      "metadata": {
        "id": "GYI0BiRAooMg",
        "colab_type": "code",
        "colab": {}
      },
      "cell_type": "code",
      "source": [
        "def optimize_me(domain, prediction, true_labels, sig_sum_w=sig_sum_w, bkgr_sum_w = bkgr_sum_w, n_iter = 10):\n",
        "    optimizer = BayesianOptimization(f= lambda x: AMS_cut(x, prediction = prediction, true_labels = true_labels, sig_sum_w = sig_sum_w, bkgr_sum_w = bkgr_sum_w), \n",
        "    #                                  some_metric_cut,\n",
        "                                     domain=domain,\n",
        "                                     model_type='GP',\n",
        "                                     acquisition_type ='MPI',\n",
        "    #                                  n_samples = 5,\n",
        "                                     evaluator_type = 'local_penalization',\n",
        "                                     initial_design_numdata = 30,\n",
        "                                     initial_design_type='sobol',\n",
        "                                     batch_size = 1,\n",
        "                                     acquisition_jitter = 0.005,\n",
        "                                     exact_feval = True, \n",
        "                                     maximize = True,\n",
        "                                     num_cores = 2)\n",
        "\n",
        "    # Only 20 iterations because we have 5 initial random points\n",
        "\n",
        "    # optimizer.run_optimization(max_iter=5, max_time=180, eps=1e-6, verbosity=True, context={'n_estimators':10})\n",
        "    optimizer.run_optimization(max_iter=n_iter, max_time=1800, eps=1e-6, verbosity=True) \n",
        "    return optimizer"
      ],
      "execution_count": 0,
      "outputs": []
    },
    {
      "metadata": {
        "id": "2WZz2Glao-3A",
        "colab_type": "code",
        "outputId": "6ff02476-8969-4c56-bc9a-52c8c5b4d567",
        "colab": {
          "base_uri": "https://localhost:8080/",
          "height": 367
        }
      },
      "cell_type": "code",
      "source": [
        "domain = [\n",
        "    {'name': 'cut', 'type': 'continuous', 'domain': (0.7, 0.999)}\n",
        "  ]\n",
        "\n",
        "optimizer = optimize_me(domain, test_proba, y_test, n_iter = 20)"
      ],
      "execution_count": 24,
      "outputs": [
        {
          "output_type": "stream",
          "text": [
            "num acquisition: 1, time elapsed: 0.49s\n",
            "num acquisition: 2, time elapsed: 0.97s\n",
            "num acquisition: 3, time elapsed: 1.50s\n",
            "num acquisition: 4, time elapsed: 1.97s\n",
            "num acquisition: 5, time elapsed: 2.46s\n",
            "num acquisition: 6, time elapsed: 2.93s\n",
            "num acquisition: 7, time elapsed: 3.46s\n",
            "num acquisition: 8, time elapsed: 3.90s\n",
            "num acquisition: 9, time elapsed: 4.31s\n",
            "num acquisition: 10, time elapsed: 4.79s\n",
            "num acquisition: 11, time elapsed: 5.32s\n",
            "num acquisition: 12, time elapsed: 5.73s\n",
            "num acquisition: 13, time elapsed: 6.14s\n",
            "num acquisition: 14, time elapsed: 6.56s\n",
            "num acquisition: 15, time elapsed: 7.03s\n",
            "num acquisition: 16, time elapsed: 7.78s\n",
            "num acquisition: 17, time elapsed: 8.46s\n",
            "num acquisition: 18, time elapsed: 9.27s\n",
            "num acquisition: 19, time elapsed: 10.00s\n",
            "num acquisition: 20, time elapsed: 10.62s\n"
          ],
          "name": "stdout"
        }
      ]
    },
    {
      "metadata": {
        "id": "9Loh4FG7010B",
        "colab_type": "code",
        "outputId": "051ef7c0-acd1-4a71-94b1-730544fa0cb4",
        "colab": {
          "base_uri": "https://localhost:8080/",
          "height": 312
        }
      },
      "cell_type": "code",
      "source": [
        "# y_rs = np.maximum.accumulate(rs.cv_results_['mean_test_score'])\n",
        "y_bo = np.maximum.accumulate(-optimizer.Y).ravel()\n",
        "\n",
        "# print(f'Baseline neg. MSE = {baseline:.2f}')\n",
        "# print(f'Random search = {y_rs[-1]:.2f}')\n",
        "print(f'Bayesian optimization score = {y_bo[-1]:.2f}')\n",
        "\n",
        "# plt.plot(y_rs, 'ro-', label='Random search')\n",
        "plt.plot(y_bo, 'bo-', label='Bayesian optimization')\n",
        "plt.xlabel('Iteration')\n",
        "plt.ylabel('Neg. Loss')\n",
        "# plt.ylim(-5000, -3000)\n",
        "plt.title('Value of the best sampled CV score');\n",
        "plt.legend();\n"
      ],
      "execution_count": 25,
      "outputs": [
        {
          "output_type": "stream",
          "text": [
            "Bayesian optimization score = 1.84\n"
          ],
          "name": "stdout"
        },
        {
          "output_type": "display_data",
          "data": {
            "image/png": "[encoded data removed]",
            "text/plain": [
              "<Figure size 432x288 with 1 Axes>"
            ]
          },
          "metadata": {
            "tags": []
          }
        }
      ]
    },
    {
      "metadata": {
        "id": "ODpF1X5S07pW",
        "colab_type": "code",
        "outputId": "b1f621b8-2ca2-47da-e670-d59abfe15277",
        "colab": {
          "base_uri": "https://localhost:8080/",
          "height": 269
        }
      },
      "cell_type": "code",
      "source": [
        "plt.plot(optimizer.X, -optimizer.Y, 'bo')\n",
        "plt.xlim(0.7, 1.)\n",
        "plt.show()"
      ],
      "execution_count": 26,
      "outputs": [
        {
          "output_type": "display_data",
          "data": {
            "image/png": "[encoded data removed]",
            "text/plain": [
              "<Figure size 432x288 with 1 Axes>"
            ]
          },
          "metadata": {
            "tags": []
          }
        }
      ]
    },
    {
      "metadata": {
        "id": "30w7PH3M3paB",
        "colab_type": "code",
        "outputId": "39856170-1ee3-43fb-8ef5-62877e5db0ba",
        "colab": {
          "base_uri": "https://localhost:8080/",
          "height": 34
        }
      },
      "cell_type": "code",
      "source": [
        "print(f'best signif. = {max(-optimizer.Y_best)} for cut = {optimizer.x_opt[0]:.5f}')"
      ],
      "execution_count": 27,
      "outputs": [
        {
          "output_type": "stream",
          "text": [
            "best signif. = 1.8399509662674232 for cut = 0.99705\n"
          ],
          "name": "stdout"
        }
      ]
    },
    {
      "metadata": {
        "id": "CddMb-CA2Dyh",
        "colab_type": "code",
        "colab": {}
      },
      "cell_type": "code",
      "source": [
        "_f= lambda x: AMS_cut(x, prediction = test_proba, true_labels = y_test, sig_sum_w = sig_sum_w, bkgr_sum_w = bkgr_sum_w)"
      ],
      "execution_count": 0,
      "outputs": []
    },
    {
      "metadata": {
        "id": "a_0V1m5h2JDg",
        "colab_type": "code",
        "outputId": "cac8fcf9-6c50-4c3f-a417-638532e7c2cd",
        "colab": {
          "base_uri": "https://localhost:8080/",
          "height": 34
        }
      },
      "cell_type": "code",
      "source": [
        "_s = (test_proba > 0.997) & (y_test == 1)\n",
        "_b = (test_proba > 0.997) & (y_test == 0)\n",
        "\n",
        "s_weight = sig_sum_w  / np.argwhere(y_test == 1).shape[0]\n",
        "b_weight = bkgr_sum_w / np.argwhere(y_test == 0).shape[0]\n",
        "_s = np.array(_s, dtype='int') * s_weight; _b = np.array(_b, dtype='int') * b_weight\n",
        "\n",
        "sum(_s), sum(_b)"
      ],
      "execution_count": 30,
      "outputs": [
        {
          "output_type": "execute_result",
          "data": {
            "text/plain": [
              "(19.779629131953776, 147.78986967620585)"
            ]
          },
          "metadata": {
            "tags": []
          },
          "execution_count": 30
        }
      ]
    },
    {
      "metadata": {
        "id": "PaXzuxEd4Qhe",
        "colab_type": "code",
        "colab": {}
      },
      "cell_type": "code",
      "source": [
        ""
      ],
      "execution_count": 0,
      "outputs": []
    }
  ]
}