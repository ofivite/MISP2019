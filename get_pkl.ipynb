{
 "cells": [
  {
   "cell_type": "code",
   "execution_count": 1,
   "metadata": {
    "collapsed": false,
    "jupyter": {
     "outputs_hidden": false
    },
    "slideshow": {
     "slide_type": "slide"
    }
   },
   "outputs": [
    {
     "name": "stdout",
     "output_type": "stream",
     "text": [
      "Welcome to JupyROOT 6.14/04\n",
      "Populating the interactive namespace from numpy and matplotlib\n"
     ]
    }
   ],
   "source": [
    "import ROOT\n",
    "from ROOT import RooFit as RF\n",
    "import root_numpy as rnp\n",
    "from root_pandas import read_root\n",
    "\n",
    "import pandas as pd\n",
    "import numpy as np\n",
    "import seaborn as sns\n",
    "import matplotlib.pyplot as plt     \n",
    "import graphviz\n",
    "\n",
    "from IPython.display import Image        ## plot png/jpeg with:  Image(filename=('./temp/my_plot.png'))\n",
    "# from wand.image import Image as WImage   ## plot pdf with:       WImage(filename='hat.pdf[1]')   [1] - page number\n",
    "%pylab inline       \n",
    "\n",
    "# from sklearn.model_selection import learning_curve, GridSearchCV\n",
    "# from sklearn import linear_model, metrics, tree, ensemble\n",
    "# from sklearn.preprocessing import scale, StandardScaler, PolynomialFeatures\n",
    "# from sklearn.utils import shuffle\n",
    "# from sklearn.model_selection import train_test_split, cross_validate\n",
    "# from sklearn.discriminant_analysis import LinearDiscriminantAnalysis\n",
    "# from sklearn.feature_selection import SelectFromModel, RFE\n",
    "# from imblearn.over_sampling import RandomOverSampler\n",
    "# from sklearn.svm import SVC\n",
    "# from sklearn.metrics import roc_curve, auc, classification_report, matthews_corrcoef\n",
    "\n",
    "# import xgboost as xgb"
   ]
  },
  {
   "cell_type": "code",
   "execution_count": 3,
   "metadata": {
    "slideshow": {
     "slide_type": "slide"
    }
   },
   "outputs": [],
   "source": [
    "variables = ( [\n",
    "\n",
    "'nB',\n",
    "    \n",
    "\"K1_pt\", \"K1_eta\", \n",
    "\"K2_pt\", \"K2_eta\",\n",
    "    \n",
    "\"PI1_pt\", \"PI1_eta\",\n",
    "\"PI2_pt\", \"PI2_eta\",\n",
    "    \n",
    "'mu_1_pt',  'mu_1_eta',\n",
    "'mu_2_pt',  'mu_2_eta', \n",
    "\n",
    "'JP_pt', 'JP_eta',\n",
    "'phi_pt', 'phi_eta',\n",
    "# 'psi_pt',   'psi_eta',\n",
    "    \n",
    "###  \n",
    "\"PIPI_mass_Cjp\", \"PHI_mass_Cjp\", \"BU_mass_Cjp\", \"JPSI_mass_Cmumu\", \n",
    "    \n",
    "### \n",
    "\"JPSI_vtxprob_Cmumu\", \"JPSI_pvcos2_Cmumu\", \"JPSI_pvdistsignif2_Cmumu\",\n",
    "    \n",
    "###    \n",
    "\"BU_pt_Cjp\", 'BU_eta_Cjp',\n",
    "    \n",
    "###   \n",
    "\"BU_pvdistsignif2_Cjp\", \"BU_pvdistsignif3_Cjp\", \n",
    "\"BU_pvcos2_Cjp\", \"BU_vtxprob_Cjp\",\n",
    "    \n",
    "###\n",
    "\"PV_bestBang_RF_CL\"\n",
    "    \n",
    "] ) \n",
    "\n",
    "psi_vars = ['psi_mass_Cjp', 'psi_pt', 'psi_eta']\n",
    "X_vars = ['X_mass_Cjp', 'X_pt', 'X_eta']\n",
    "MC_vars = [\"dR_mu1\", \"dR_mu2\", \"dR_pi1\", \"dR_pi2\", \"dR_K1\", \"dR_K2\",\n",
    "           \"dR_mu1_vv\", \"dR_mu2_vv\", \"dR_pi1_vv\", \"dR_pi2_vv\", \"dR_K1_vv\", \"dR_K2_vv\",\n",
    "           'gen_phi_mass', 'delta_phi_mass',\n",
    "           \"BU_reflmass1_Cjp\", \"BU_reflmass2_Cjp\"] \n",
    "\n",
    "MC = read_root('BsToPsiPhi_Smatch_v1_pair_dR_psi_renamed.root', columns = variables + MC_vars + psi_vars) # psi\n",
    "# data = read_root('../../Bs_resonances/new_2_with_more_B0_e3de87.root', columns = variables + X_vars)\n",
    "data = read_root('new_2_with_more_B0_nB_4000.root', columns = variables + X_vars)"
   ]
  },
  {
   "cell_type": "code",
   "execution_count": 4,
   "metadata": {},
   "outputs": [
    {
     "data": {
      "text/html": [
       "<div>\n",
       "<style scoped>\n",
       "    .dataframe tbody tr th:only-of-type {\n",
       "        vertical-align: middle;\n",
       "    }\n",
       "\n",
       "    .dataframe tbody tr th {\n",
       "        vertical-align: top;\n",
       "    }\n",
       "\n",
       "    .dataframe thead th {\n",
       "        text-align: right;\n",
       "    }\n",
       "</style>\n",
       "<table border=\"1\" class=\"dataframe\">\n",
       "  <thead>\n",
       "    <tr style=\"text-align: right;\">\n",
       "      <th></th>\n",
       "      <th>X_eta</th>\n",
       "      <th>BU_pvdistsignif2_Cjp</th>\n",
       "      <th>mu_1_pt</th>\n",
       "      <th>PI2_eta</th>\n",
       "      <th>BU_pt_Cjp</th>\n",
       "      <th>K1_pt</th>\n",
       "      <th>BU_vtxprob_Cjp</th>\n",
       "      <th>mu_2_eta</th>\n",
       "      <th>phi_eta</th>\n",
       "      <th>BU_mass_Cjp</th>\n",
       "      <th>...</th>\n",
       "      <th>PHI_mass_Cjp</th>\n",
       "      <th>X_mass_Cjp</th>\n",
       "      <th>mu_1_eta</th>\n",
       "      <th>K1_eta</th>\n",
       "      <th>BU_pvcos2_Cjp</th>\n",
       "      <th>PI1_pt</th>\n",
       "      <th>PI1_eta</th>\n",
       "      <th>PV_bestBang_RF_CL</th>\n",
       "      <th>JP_eta</th>\n",
       "      <th>PIPI_mass_Cjp</th>\n",
       "    </tr>\n",
       "  </thead>\n",
       "  <tbody>\n",
       "    <tr>\n",
       "      <th>0</th>\n",
       "      <td>-0.498242</td>\n",
       "      <td>14.472040</td>\n",
       "      <td>6.784686</td>\n",
       "      <td>-0.318851</td>\n",
       "      <td>16.839408</td>\n",
       "      <td>0.832825</td>\n",
       "      <td>0.120611</td>\n",
       "      <td>-0.259383</td>\n",
       "      <td>-0.507569</td>\n",
       "      <td>5.374444</td>\n",
       "      <td>...</td>\n",
       "      <td>1.009506</td>\n",
       "      <td>4.099619</td>\n",
       "      <td>-0.725867</td>\n",
       "      <td>-0.572725</td>\n",
       "      <td>0.999371</td>\n",
       "      <td>1.920597</td>\n",
       "      <td>-0.378099</td>\n",
       "      <td>0.999997</td>\n",
       "      <td>-0.519022</td>\n",
       "      <td>0.816658</td>\n",
       "    </tr>\n",
       "    <tr>\n",
       "      <th>1</th>\n",
       "      <td>-0.269583</td>\n",
       "      <td>62.282520</td>\n",
       "      <td>4.707489</td>\n",
       "      <td>-0.257914</td>\n",
       "      <td>34.306646</td>\n",
       "      <td>1.850064</td>\n",
       "      <td>0.866066</td>\n",
       "      <td>-0.279723</td>\n",
       "      <td>-0.367836</td>\n",
       "      <td>5.445889</td>\n",
       "      <td>...</td>\n",
       "      <td>1.024647</td>\n",
       "      <td>4.035529</td>\n",
       "      <td>-0.233070</td>\n",
       "      <td>-0.420843</td>\n",
       "      <td>0.999988</td>\n",
       "      <td>7.088191</td>\n",
       "      <td>-0.268528</td>\n",
       "      <td>0.527403</td>\n",
       "      <td>-0.271743</td>\n",
       "      <td>0.459651</td>\n",
       "    </tr>\n",
       "    <tr>\n",
       "      <th>2</th>\n",
       "      <td>0.921641</td>\n",
       "      <td>11.982181</td>\n",
       "      <td>7.219025</td>\n",
       "      <td>0.726417</td>\n",
       "      <td>27.948860</td>\n",
       "      <td>4.537366</td>\n",
       "      <td>0.151426</td>\n",
       "      <td>0.750872</td>\n",
       "      <td>1.044036</td>\n",
       "      <td>5.506572</td>\n",
       "      <td>...</td>\n",
       "      <td>1.044740</td>\n",
       "      <td>4.117874</td>\n",
       "      <td>1.151403</td>\n",
       "      <td>1.012913</td>\n",
       "      <td>0.999817</td>\n",
       "      <td>4.841542</td>\n",
       "      <td>0.835529</td>\n",
       "      <td>0.861919</td>\n",
       "      <td>0.960082</td>\n",
       "      <td>0.449944</td>\n",
       "    </tr>\n",
       "    <tr>\n",
       "      <th>3</th>\n",
       "      <td>0.970037</td>\n",
       "      <td>9.954757</td>\n",
       "      <td>7.219025</td>\n",
       "      <td>0.879466</td>\n",
       "      <td>25.793126</td>\n",
       "      <td>4.537366</td>\n",
       "      <td>0.169773</td>\n",
       "      <td>0.750872</td>\n",
       "      <td>1.043966</td>\n",
       "      <td>5.182262</td>\n",
       "      <td>...</td>\n",
       "      <td>1.044535</td>\n",
       "      <td>3.943117</td>\n",
       "      <td>1.151403</td>\n",
       "      <td>1.012913</td>\n",
       "      <td>0.999998</td>\n",
       "      <td>2.791276</td>\n",
       "      <td>1.029989</td>\n",
       "      <td>0.740230</td>\n",
       "      <td>0.960460</td>\n",
       "      <td>0.735202</td>\n",
       "    </tr>\n",
       "    <tr>\n",
       "      <th>4</th>\n",
       "      <td>0.945089</td>\n",
       "      <td>10.067261</td>\n",
       "      <td>7.219025</td>\n",
       "      <td>0.879466</td>\n",
       "      <td>24.085764</td>\n",
       "      <td>4.537366</td>\n",
       "      <td>0.213535</td>\n",
       "      <td>0.750872</td>\n",
       "      <td>1.044019</td>\n",
       "      <td>5.195252</td>\n",
       "      <td>...</td>\n",
       "      <td>1.044476</td>\n",
       "      <td>3.866136</td>\n",
       "      <td>1.151403</td>\n",
       "      <td>1.012913</td>\n",
       "      <td>0.999994</td>\n",
       "      <td>1.093392</td>\n",
       "      <td>0.726417</td>\n",
       "      <td>0.824596</td>\n",
       "      <td>0.960582</td>\n",
       "      <td>0.436816</td>\n",
       "    </tr>\n",
       "  </tbody>\n",
       "</table>\n",
       "<p>5 rows × 34 columns</p>\n",
       "</div>"
      ],
      "text/plain": [
       "      X_eta  BU_pvdistsignif2_Cjp   mu_1_pt   PI2_eta  BU_pt_Cjp     K1_pt  \\\n",
       "0 -0.498242             14.472040  6.784686 -0.318851  16.839408  0.832825   \n",
       "1 -0.269583             62.282520  4.707489 -0.257914  34.306646  1.850064   \n",
       "2  0.921641             11.982181  7.219025  0.726417  27.948860  4.537366   \n",
       "3  0.970037              9.954757  7.219025  0.879466  25.793126  4.537366   \n",
       "4  0.945089             10.067261  7.219025  0.879466  24.085764  4.537366   \n",
       "\n",
       "   BU_vtxprob_Cjp  mu_2_eta   phi_eta  BU_mass_Cjp      ...        \\\n",
       "0        0.120611 -0.259383 -0.507569     5.374444      ...         \n",
       "1        0.866066 -0.279723 -0.367836     5.445889      ...         \n",
       "2        0.151426  0.750872  1.044036     5.506572      ...         \n",
       "3        0.169773  0.750872  1.043966     5.182262      ...         \n",
       "4        0.213535  0.750872  1.044019     5.195252      ...         \n",
       "\n",
       "   PHI_mass_Cjp  X_mass_Cjp  mu_1_eta    K1_eta  BU_pvcos2_Cjp    PI1_pt  \\\n",
       "0      1.009506    4.099619 -0.725867 -0.572725       0.999371  1.920597   \n",
       "1      1.024647    4.035529 -0.233070 -0.420843       0.999988  7.088191   \n",
       "2      1.044740    4.117874  1.151403  1.012913       0.999817  4.841542   \n",
       "3      1.044535    3.943117  1.151403  1.012913       0.999998  2.791276   \n",
       "4      1.044476    3.866136  1.151403  1.012913       0.999994  1.093392   \n",
       "\n",
       "    PI1_eta  PV_bestBang_RF_CL    JP_eta  PIPI_mass_Cjp  \n",
       "0 -0.378099           0.999997 -0.519022       0.816658  \n",
       "1 -0.268528           0.527403 -0.271743       0.459651  \n",
       "2  0.835529           0.861919  0.960082       0.449944  \n",
       "3  1.029989           0.740230  0.960460       0.735202  \n",
       "4  0.726417           0.824596  0.960582       0.436816  \n",
       "\n",
       "[5 rows x 34 columns]"
      ]
     },
     "execution_count": 4,
     "metadata": {},
     "output_type": "execute_result"
    }
   ],
   "source": [
    "data.head()"
   ]
  },
  {
   "cell_type": "code",
   "execution_count": 5,
   "metadata": {},
   "outputs": [],
   "source": [
    "data = data.rename(index=str, columns={\"X_mass_Cjp\": \"psi_mass_Cjp\", \"X_pt\": \"psi_pt\", \"X_eta\": \"psi_eta\"})"
   ]
  },
  {
   "cell_type": "code",
   "execution_count": 5,
   "metadata": {},
   "outputs": [
    {
     "data": {
      "text/plain": [
       "Index(['JPSI_mass_Cmumu', 'PI1_pt', 'BU_pvdistsignif3_Cjp', 'PIPI_mass_Cjp',\n",
       "       'phi_pt', 'JPSI_pvcos2_Cmumu', 'PI2_pt', 'mu_2_pt', 'mu_1_eta',\n",
       "       'mu_2_eta', 'JP_pt', 'BU_eta_Cjp', 'JPSI_vtxprob_Cmumu', 'BU_pt_Cjp',\n",
       "       'K2_pt', 'K1_eta', 'psi_eta', 'phi_eta', 'psi_pt', 'PI1_eta',\n",
       "       'JPSI_pvdistsignif2_Cmumu', 'psi_mass_Cjp', 'BU_pvdistsignif2_Cjp',\n",
       "       'PHI_mass_Cjp', 'JP_eta', 'PV_bestBang_RF_CL', 'K1_pt', 'BU_pvcos2_Cjp',\n",
       "       'PI2_eta', 'BU_mass_Cjp', 'nB', 'BU_vtxprob_Cjp', 'mu_1_pt', 'K2_eta'],\n",
       "      dtype='object')"
      ]
     },
     "execution_count": 5,
     "metadata": {},
     "output_type": "execute_result"
    }
   ],
   "source": [
    "data.columns"
   ]
  },
  {
   "cell_type": "code",
   "execution_count": 6,
   "metadata": {},
   "outputs": [
    {
     "data": {
      "text/plain": [
       "Index(['JPSI_mass_Cmumu', 'dR_mu2_vv', 'PI1_pt', 'BU_pvdistsignif3_Cjp',\n",
       "       'psi_mass_Cjp', 'PIPI_mass_Cjp', 'phi_pt', 'dR_pi1_vv', 'dR_K1_vv',\n",
       "       'delta_phi_mass', 'JPSI_pvcos2_Cmumu', 'PI2_pt', 'mu_2_pt', 'mu_1_eta',\n",
       "       'mu_2_eta', 'JP_pt', 'dR_pi1', 'BU_eta_Cjp', 'JPSI_vtxprob_Cmumu',\n",
       "       'BU_pt_Cjp', 'K2_pt', 'dR_K1', 'K1_eta', 'BU_reflmass1_Cjp', 'phi_eta',\n",
       "       'dR_mu1', 'PI1_eta', 'JPSI_pvdistsignif2_Cmumu', 'BU_pvdistsignif2_Cjp',\n",
       "       'PHI_mass_Cjp', 'JP_eta', 'BU_reflmass2_Cjp', 'dR_pi2_vv', 'psi_pt',\n",
       "       'psi_eta', 'K2_eta', 'PV_bestBang_RF_CL', 'K1_pt', 'dR_mu1_vv',\n",
       "       'BU_pvcos2_Cjp', 'dR_pi2', 'PI2_eta', 'BU_mass_Cjp', 'nB',\n",
       "       'BU_vtxprob_Cjp', 'dR_K2_vv', 'mu_1_pt', 'dR_K2', 'gen_phi_mass',\n",
       "       'dR_mu2'],\n",
       "      dtype='object')"
      ]
     },
     "execution_count": 6,
     "metadata": {},
     "output_type": "execute_result"
    }
   ],
   "source": [
    "MC.columns"
   ]
  },
  {
   "cell_type": "code",
   "execution_count": 7,
   "metadata": {},
   "outputs": [
    {
     "data": {
      "text/plain": [
       "<matplotlib.axes._subplots.AxesSubplot at 0x7fa076f1e358>"
      ]
     },
     "execution_count": 7,
     "metadata": {},
     "output_type": "execute_result"
    },
    {
     "data": {
      "image/png": "[encoded data removed]",
      "text/plain": [
       "<Figure size 432x288 with 1 Axes>"
      ]
     },
     "metadata": {
      "needs_background": "light"
     },
     "output_type": "display_data"
    }
   ],
   "source": [
    "sns.distplot(MC.dropna().BU_pvdistsignif3_Cjp)\n",
    "sns.distplot(data.dropna().BU_pvdistsignif3_Cjp)"
   ]
  },
  {
   "cell_type": "code",
   "execution_count": 6,
   "metadata": {},
   "outputs": [],
   "source": [
    "data.to_pickle('data_B0_e3de87_nB_4000.pkl')\n",
    "MC.to_pickle('MC_pair_dR_psi_renamed.pkl')"
   ]
  },
  {
   "cell_type": "code",
   "execution_count": null,
   "metadata": {},
   "outputs": [],
   "source": []
  }
 ],
 "metadata": {
  "kernelspec": {
   "display_name": "Python 3",
   "language": "python",
   "name": "python3"
  },
  "language_info": {
   "codemirror_mode": {
    "name": "ipython",
    "version": 3
   },
   "file_extension": ".py",
   "mimetype": "text/x-python",
   "name": "python",
   "nbconvert_exporter": "python",
   "pygments_lexer": "ipython3",
   "version": "3.6.8"
  }
 },
 "nbformat": 4,
 "nbformat_minor": 4
}
